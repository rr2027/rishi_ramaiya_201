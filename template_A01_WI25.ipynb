{
 "cells": [
  {
   "cell_type": "raw",
   "metadata": {},
   "source": [
    "---\n",
    "title: \"Assignment 1\"\n",
    "subtitle: \"STAT 201\"\n",
    "author: \"YOUR NAME\"\n",
    "format:\n",
    "  html:\n",
    "    toc: true\n",
    "    embed-resources: true\n",
    "jupyter: python3\n",
    "---"
   ]
  },
  {
   "cell_type": "markdown",
   "metadata": {},
   "source": [
    "### Instructions"
   ]
  },
  {
   "cell_type": "markdown",
   "metadata": {},
   "source": [
    "1. **Write your name** on the assignment.\n",
    "\n",
    "2. Write your code in the *Code* cells of the **template provided** to write solutions for the assignment. **Do not open a new notebook**, and work from scratch. Ensure that the solution is written neatly enough to understand and grade.\n",
    "\n",
    "3. Use [Quarto](https://quarto.org/docs/output-formats/html-basics.html) to print the *.ipynb* file as HTML. You will need to open the command prompt, navigate to the directory containing the file, and use the command: `quarto render filename.ipynb --to html`. Submit the HTML file.\n",
    "\n",
    "4. You may talk to a friend, discuss the questions and potential directions for solving them. However, you need to write your own solutions and code separately, and not as a group activity. Do not use AI to solve the problems.\n",
    "\n",
    "5. If your document is not clean and organized, you can lose up to 2 points:\n",
    "\n",
    "    - Must be an HTML file rendered using Quarto. \n",
    "    - There aren’t excessively long outputs of extraneous information (e.g. no printouts of unnecessary results without good reason, there aren’t long printouts of which iteration a loop is on, there aren’t long sections of commented-out code, etc.). There is no piece of unnecessary / redundant code, and no unnecessary / redundant text\n",
    "    - The code follows the [python style guide](https://peps.python.org/pep-0008/) for naming variables, spaces, indentation, etc.\n",
    "    - The code should be commented and clearly written with intuitive variable names. For example, use variable names such as number_input, factor, hours, instead of a,b,xyz, etc."
   ]
  },
  {
   "cell_type": "markdown",
   "metadata": {},
   "source": [
    "## Question 1 (4 points)"
   ]
  },
  {
   "cell_type": "markdown",
   "metadata": {},
   "source": [
    "a) Create a a variable called `var_float` that contains a decimal number."
   ]
  },
  {
   "cell_type": "code",
   "execution_count": 1,
   "metadata": {},
   "outputs": [],
   "source": [
    "var_float = 3.14        "
   ]
  },
  {
   "cell_type": "markdown",
   "metadata": {},
   "source": [
    "b) Store a sentence as `var_sent` that reads exactly as follows: \"The square of `{}` is `{}`.\" Where the first `{}` is your `var_float` and the second `{}` is the square of that variable. Print your sentence."
   ]
  },
  {
   "cell_type": "code",
   "execution_count": 2,
   "metadata": {},
   "outputs": [
    {
     "name": "stdout",
     "output_type": "stream",
     "text": [
      "The square of 3.14 is 9.8596.\n"
     ]
    }
   ],
   "source": [
    "var_sent = f'The square of {var_float} is {var_float**2}.'\n",
    "print(var_sent)"
   ]
  },
  {
   "cell_type": "markdown",
   "metadata": {},
   "source": [
    "c) Print the output of using the `count` **method** to determine how many spaces are in `var_sent`."
   ]
  },
  {
   "cell_type": "code",
   "execution_count": 3,
   "metadata": {},
   "outputs": [
    {
     "name": "stdout",
     "output_type": "stream",
     "text": [
      "5\n"
     ]
    }
   ],
   "source": [
    "print(var_sent.count(\" \"))"
   ]
  },
  {
   "cell_type": "markdown",
   "metadata": {},
   "source": [
    "d) Round your `var_float` to 0 decimal places and convert to an integer. Store this as `var_int` and print the `type` to verify this was done correctly."
   ]
  },
  {
   "cell_type": "code",
   "execution_count": 4,
   "metadata": {},
   "outputs": [
    {
     "name": "stdout",
     "output_type": "stream",
     "text": [
      "<class 'int'>\n"
     ]
    }
   ],
   "source": [
    "var_int = round(var_float)\n",
    "\n",
    "print(type(var_int))"
   ]
  },
  {
   "cell_type": "markdown",
   "metadata": {},
   "source": [
    "## Question 2 (3 points)"
   ]
  },
  {
   "cell_type": "markdown",
   "metadata": {},
   "source": [
    "Have a user input 2 Booleans (hint: must be type bool). In a **single print line**, using only `and`, `or`, `not` functions, have the output return True if both variables are the same, and False is they are different. \n",
    "\n",
    "Clarification: 1) cannot use conditional if statements 2) this must be capable of printing the correct output for any possible booleans the user could enter, not just the one example that your html will show."
   ]
  },
  {
   "cell_type": "code",
   "execution_count": 24,
   "metadata": {},
   "outputs": [
    {
     "name": "stdout",
     "output_type": "stream",
     "text": [
      "False\n"
     ]
    }
   ],
   "source": [
    "while True:\n",
    "    try:\n",
    "        boolean1 = input(\"Input True or False: \").strip().lower()\n",
    "        boolean2 = input(\"Input True or False: \").strip().lower()\n",
    "\n",
    "        if (boolean1 != \"true\" and boolean1 != \"false\") or (boolean2 != \"true\" and boolean2 != \"false\"):\n",
    "            raise ValueError(\"Invalid input, please input again\")\n",
    "\n",
    "        boolean1 = boolean1 == \"true\"\n",
    "        boolean2 = boolean2 == \"true\"\n",
    "\n",
    "        print((boolean1 and boolean2) or (not boolean1 and not boolean2))\n",
    "        break\n",
    "    except ValueError as e:\n",
    "        print(e)\n"
   ]
  },
  {
   "cell_type": "markdown",
   "metadata": {},
   "source": [
    "## Question 3 (6 points)"
   ]
  },
  {
   "cell_type": "markdown",
   "metadata": {},
   "source": [
    "At Northwestern, email addresses are classified as follows:\n",
    "\n",
    "- **Student email addresses** end with `@u.northwestern.edu`.\n",
    "- **Professor email addresses** end with `@northwestern.edu` (but not `@u.northwestern.edu`).\n",
    "\n",
    "Write a Python program that:\n",
    "1. Asks the user how many email addresses they will enter.\n",
    "2. Prompts the user to input each email address.\n",
    "3. After all email addresses are entered:\n",
    "   - Print all professor email addresses under the heading `\"Professor Emails:\"`.\n",
    "   - Print all student email addresses under the heading `\"Student Emails:\"`.\n",
    "   - If no professor or student emails were entered, print `\"None\"` under the respective heading.\n",
    "\n",
    "### Requirements:\n",
    "- Do not use lists or other advanced data structures, since we have not covered them yet.\n",
    "- Use only basic string operations and loops.\n",
    "- **The program must handle all cases**, regardless of uppercase or lowercase in the email addresses.\n",
    "- **Trim any leading or trailing whitespace** in the user input before classifying the email.\n",
    "\n",
    "**Example Run:**\n",
    "\n",
    "How many email addresses will you be entering? 3 <br>\n",
    "Enter an email address: lshi@northwestern.edu  <br>\n",
    "Enter an email address: jackyu@u.northwestern.edu  <br>\n",
    "Enter an email address:   Alexa@u.northwestern.edu  <br>\n",
    "\n",
    "**Output:**\n",
    "\n",
    "Professor Emails: <br>\n",
    "lshi@northwestern.edu <br>\n",
    "\n",
    "Student Emails: <br>\n",
    "jackyu@u.northwestern.edu <br>\n",
    "alexa@u.northwestern.edu <br>\n"
   ]
  },
  {
   "cell_type": "code",
   "execution_count": 6,
   "metadata": {},
   "outputs": [
    {
     "name": "stdout",
     "output_type": "stream",
     "text": [
      "Professor Emails:\n",
      "lzshi@northwestern.edu\n",
      "\n",
      "\n",
      "Student Emails:\n",
      "rishiramaiya2027@u.northwestern.edu\n",
      "rishiramaiya@u.northwestern.edu\n",
      "\n"
     ]
    }
   ],
   "source": [
    "professor_emails = \"\"\n",
    "student_emails = \"\"\n",
    "    \n",
    "while True:\n",
    "    try:\n",
    "        num_emails = int(input(\"How many email addresses will you be entering? \"))\n",
    "        if num_emails < 0:\n",
    "            raise ValueError(\"Invalid email count. Please enter a non-negative number.\")\n",
    "        break\n",
    "    except ValueError:\n",
    "        print(\"Invalid number, enter a valid number.\")\n",
    "    \n",
    "for _ in range(num_emails):\n",
    "    while True:\n",
    "        email = input(\"Enter an email address: \").strip().lower()\n",
    "        if \"@\" in email and email.endswith(\"northwestern.edu\"):\n",
    "            break\n",
    "        print(\"Invalid email, input a different email.\")\n",
    "        \n",
    "    if email.endswith(\"@u.northwestern.edu\"):\n",
    "        student_emails += email + \"\\n\"\n",
    "    elif email.endswith(\"@northwestern.edu\"):\n",
    "        professor_emails += email + \"\\n\"\n",
    "    \n",
    "print(\"Professor Emails:\")\n",
    "print(professor_emails if professor_emails else \"None\")\n",
    "    \n",
    "print(\"\\nStudent Emails:\")\n",
    "print(student_emails if student_emails else \"None\")"
   ]
  },
  {
   "cell_type": "markdown",
   "metadata": {},
   "source": []
  },
  {
   "cell_type": "markdown",
   "metadata": {},
   "source": [
    "## Question 4 (3 points)"
   ]
  },
  {
   "cell_type": "markdown",
   "metadata": {},
   "source": [
    "Write a tip calculator program that asks the user for the price of the meal and the percent tip they want to leave. Then print a sentence that displays both the tip amount and total bill. Example if meal price is 25 dollars and tip is 15 percent:\n",
    "                                   \n",
    "                                   Your tip amount is $3.75 and your total bill is $28.75."
   ]
  },
  {
   "cell_type": "code",
   "execution_count": 26,
   "metadata": {},
   "outputs": [
    {
     "name": "stdout",
     "output_type": "stream",
     "text": [
      "Your tip amount is $3.75 and your total bill is $28.75.\n"
     ]
    }
   ],
   "source": [
    "while True:\n",
    "    try:\n",
    "        mealPrice = float(input(\"input price of meal\"))\n",
    "        tip = float(input(\"input % tip\")) / 100\n",
    "\n",
    "        if mealPrice < 0 or tip < 0:\n",
    "            raise ValueError(\"price or tip is not valid, re-enter\")\n",
    "        \n",
    "        tipTotal = tip * mealPrice\n",
    "        total = mealPrice + tipTotal\n",
    "\n",
    "        print(f\"Your tip amount is ${tipTotal} and your total bill is ${total}.\")\n",
    "        break\n",
    "    except ValueError as e:\n",
    "        print(f\"invalid input {e}, please re-enter\")\n"
   ]
  },
  {
   "cell_type": "markdown",
   "metadata": {},
   "source": [
    "## Question 5 (3 points)"
   ]
  },
  {
   "cell_type": "markdown",
   "metadata": {},
   "source": [
    "Write a program that asks the user for a number of seconds and prints out how many minutes and seconds that is. Example:\n",
    "\n",
    "                                    200 seconds is 3 minutes and 20 seconds.\n",
    "                                               \n",
    "**Use only two lines of code for this question: one line for the input and one line for the print.** "
   ]
  },
  {
   "cell_type": "code",
   "execution_count": 2,
   "metadata": {},
   "outputs": [
    {
     "name": "stdout",
     "output_type": "stream",
     "text": [
      "200 is 3 minutes and 20 seconds.\n"
     ]
    }
   ],
   "source": [
    "while True:\n",
    "    try:\n",
    "        seconds = int(input(\"input number of seconds to convert\"))\n",
    "    \n",
    "        if seconds < 0:\n",
    "            raise ValueError(\"invalid number of seconds entered\")\n",
    "        \n",
    "        minutes = seconds // 60\n",
    "        remainder = seconds % 60\n",
    "\n",
    "        print(f\"{seconds} is {minutes} minutes and {remainder} seconds.\")\n",
    "        break\n",
    "    except ValueError as e:\n",
    "        print(f\"invalid input {e} please re-enter\")"
   ]
  },
  {
   "cell_type": "markdown",
   "metadata": {},
   "source": [
    "## Question 6 (4 points)"
   ]
  },
  {
   "cell_type": "markdown",
   "metadata": {},
   "source": [
    "Write a program that asks the user to enter two numbers. Have the program return one of the following messages depending on which criteria is met. \n",
    "\n",
    "\"`num1` is greater than `num2`\"; \"`num 1` is less than `num2`\"; \"`num1` is equal to `num2`\"; where `num1` and `num2` are the user inputed values.\n",
    "\n",
    "Show the output of the program with any two numbers of your choice."
   ]
  },
  {
   "cell_type": "code",
   "execution_count": 4,
   "metadata": {},
   "outputs": [
    {
     "name": "stdout",
     "output_type": "stream",
     "text": [
      "num1 is greater than num2\n"
     ]
    }
   ],
   "source": [
    "while True:\n",
    "    try:\n",
    "        num1 = int(input(\"input num1\"))\n",
    "        num2 = int(input(\"input num2\"))\n",
    "\n",
    "\n",
    "        if num1 > num2:\n",
    "            print(\"num1 is greater than num2\")\n",
    "        elif num2 > num1:\n",
    "            print(\"num 2 is greater than num1\")\n",
    "        else:\n",
    "            print(\"num1 is equal to num2\")\n",
    "        break\n",
    "    except ValueError:\n",
    "        print(f\"invalid input {e}. please re-enter\")"
   ]
  },
  {
   "cell_type": "markdown",
   "metadata": {},
   "source": [
    "## Question 7 (4 points)"
   ]
  },
  {
   "cell_type": "markdown",
   "metadata": {},
   "source": [
    "a) Use a **single if-elif-else** statement to print the smallest of 3 user defined numbers. Show the output of the program with any three numbers of your choice."
   ]
  },
  {
   "cell_type": "code",
   "execution_count": 6,
   "metadata": {},
   "outputs": [
    {
     "name": "stdout",
     "output_type": "stream",
     "text": [
      "the smallest of the 3 numbers is 3\n"
     ]
    }
   ],
   "source": [
    "num1 = 3 \n",
    "num2 = 4\n",
    "num3 = 5\n",
    "\n",
    "if num1 <= num2 and num1 <= num3:\n",
    "    min = num1\n",
    "elif num2 <= num1 and num2 <= num3:\n",
    "    min = num2\n",
    "else:\n",
    "    min = num3\n",
    "\n",
    "print(f\"the smallest of the 3 numbers is {min}\")"
   ]
  },
  {
   "cell_type": "markdown",
   "metadata": {},
   "source": [
    "b) Use a **nested** conditional statement to print the smallest of 3 user defined numbers. Show the output of the program with any three numbers of your choice."
   ]
  },
  {
   "cell_type": "code",
   "execution_count": 7,
   "metadata": {},
   "outputs": [
    {
     "name": "stdout",
     "output_type": "stream",
     "text": [
      "the smallest of the 3 numbers is 3\n"
     ]
    }
   ],
   "source": [
    "num1 = 3 \n",
    "num2 = 4\n",
    "num3 = 5\n",
    "if num1 <= num2:\n",
    "    if num1 <= num3:\n",
    "        min = num1\n",
    "    else:\n",
    "        min = num3\n",
    "else:\n",
    "    if num2 <= num3:\n",
    "        min = num2\n",
    "    else:\n",
    "        min = num3\n",
    "\n",
    "\n",
    "print(f\"the smallest of the 3 numbers is {min}\")"
   ]
  },
  {
   "cell_type": "markdown",
   "metadata": {},
   "source": [
    "## Question 8 (6 points)"
   ]
  },
  {
   "cell_type": "markdown",
   "metadata": {},
   "source": [
    "Write a program that asks the user to enter either rock, paper, or scissors. Use a conditional statement to determine if the user wins, loses, or ties the computer at the game \"Rock, Paper, Scissors\". Note: rock beats scissors; scissors beats paper; paper beats rock\n",
    "\n",
    "Print a meaningful sentence that includes the winner, the computer's choice, and the user's choice.\n",
    "\n",
    "- Handle case sensitivity (example: if the user enters Rock, it will still run). \n",
    "- If the user enters a word other than one of the choices, print \"Invalid choice.\". \n",
    "- Show the output of the program when the user enters Rock (capitalized)"
   ]
  },
  {
   "cell_type": "code",
   "execution_count": 5,
   "metadata": {},
   "outputs": [
    {
     "name": "stdout",
     "output_type": "stream",
     "text": [
      "You won and the computer lost, the computer chose scissors, you chose rock\n"
     ]
    }
   ],
   "source": [
    "# starter code to generate a random choice of rock, paper, scissors\n",
    "\n",
    "import random as rm\n",
    "comp_choice = rm.choice(['rock', 'paper', 'scissors'])\n",
    "valid_choices = ['rock', 'paper', 'scissors']\n",
    "# your solution in this code chunk below\n",
    "\n",
    "while True:\n",
    "    try:\n",
    "        \n",
    "        choice = input(\"input your choice rock, paper or scissors\").lower()\n",
    "\n",
    "        if choice not in valid_choices:\n",
    "            raise ValueError(\"invalid choice (rock, paper, or scissors): \").strip().lower()\n",
    "        if comp_choice == \"scissors\" and choice == \"rock\":\n",
    "                print(f\"You won and the computer lost, the computer chose {comp_choice}, you chose {choice}\")\n",
    "        elif comp_choice == \"rock\" and choice == \"paper\":\n",
    "                print(f\"you won and the computer lost, the computer chose {comp_choice}, you chose {choice}\")\n",
    "        elif comp_choice == \"paper\" and choice == \"scissors\":\n",
    "                print(f\"you won and the computer lost, the computer chose {comp_choice}, you chose {choice}\")\n",
    "        elif comp_choice == choice:\n",
    "                print(f\"you tied both you and the computer chose {comp_choice}\")\n",
    "            \n",
    "        else:\n",
    "                print(f\"You lose and the computer wins! the computer chose {comp_choice}, you chose {choice}\")\n",
    "        break\n",
    "    except ValueError as e:\n",
    "           print(e)"
   ]
  },
  {
   "cell_type": "markdown",
   "metadata": {},
   "source": [
    "## Bonus (6 points)\n",
    "\n",
    "For all questions in this assignment that involve accepting user input:\n",
    "\n",
    "* Use a **`try-except`** block to handle cases where the user enters invalid input.\n",
    "* Implement a **loop** to repeatedly prompt the user for input until they provide a valid value, allowing the program to proceed."
   ]
  },
  {
   "cell_type": "markdown",
   "metadata": {},
   "source": []
  }
 ],
 "metadata": {
  "kernelspec": {
   "display_name": "Python 3 (ipykernel)",
   "language": "python",
   "name": "python3"
  },
  "language_info": {
   "codemirror_mode": {
    "name": "ipython",
    "version": 3
   },
   "file_extension": ".py",
   "mimetype": "text/x-python",
   "name": "python",
   "nbconvert_exporter": "python",
   "pygments_lexer": "ipython3",
   "version": "3.11.9"
  }
 },
 "nbformat": 4,
 "nbformat_minor": 4
}
