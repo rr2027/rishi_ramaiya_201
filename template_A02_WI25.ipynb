{
 "cells": [
  {
   "cell_type": "raw",
   "metadata": {},
   "source": [
    "---\n",
    "title: \"Assignment 2\"\n",
    "subtitle: \"STAT 201\"\n",
    "author: \"Rishi Ramaiya\"\n",
    "format:\n",
    "  html:\n",
    "    toc: true\n",
    "    embed-resources: true\n",
    "---"
   ]
  },
  {
   "cell_type": "markdown",
   "metadata": {},
   "source": [
    "### Instructions"
   ]
  },
  {
   "cell_type": "markdown",
   "metadata": {},
   "source": [
    "1. **Write your name** on the assignment.\n",
    "\n",
    "2. Write your code in the *Code* cells of the **template provided** to write solutions for the assignment. **Do not open a new notebook**, and work from scratch. Ensure that the solution is written neatly enough to understand and grade.\n",
    "\n",
    "3. Use [Quarto](https://quarto.org/docs/output-formats/html-basics.html) to print the *.ipynb* file as HTML. You will need to open the command prompt, navigate to the directory containing the file, and use the command: `quarto render filename.ipynb --to html`. Submit the HTML file.\n",
    "\n",
    "4. You may talk to a friend, discuss the questions and potential directions for solving them. However, you need to write your own solutions and code separately, and not as a group activity. Do not use AI to solve the problems.\n",
    "\n",
    "5. There are 2 points for cleanliness and organization. The breakdown is as follows:\n",
    "    - Must be an HTML file rendered using Quarto. \n",
    "    - There aren’t excessively long outputs of extraneous information (e.g. no printouts of unnecessary results without good reason, there aren’t long printouts of which iteration a loop is on, there aren’t long sections of commented-out code, etc.). There is no piece of unnecessary / redundant code, and no unnecessary / redundant text\n",
    "    - The code follows the [python style guide](https://peps.python.org/pep-0008/) for naming variables, spaces, indentation, etc.\n",
    "    - The code should be commented and clearly written with intuitive variable names. For example, use variable names such as number_input, factor, hours, instead of a,b,xyz, etc."
   ]
  },
  {
   "cell_type": "markdown",
   "metadata": {},
   "source": [
    "### Question 1 (3 points)"
   ]
  },
  {
   "cell_type": "markdown",
   "metadata": {},
   "source": [
    "a) Write a program that counts down from 5 and then prints the message \"Go\"."
   ]
  },
  {
   "cell_type": "code",
   "execution_count": 1,
   "metadata": {},
   "outputs": [
    {
     "name": "stdout",
     "output_type": "stream",
     "text": [
      "5\n",
      "4\n",
      "3\n",
      "2\n",
      "1\n",
      "0\n",
      "Go\n"
     ]
    }
   ],
   "source": [
    "x = 5\n",
    "# while loop while x > 0 so counts down\n",
    "while x >= 0:\n",
    "    print(x)\n",
    "    x = x-1 # increments x\n",
    "\n",
    "print(\"Go\")# print go after we hit 0\n",
    "\n"
   ]
  },
  {
   "cell_type": "markdown",
   "metadata": {},
   "source": [
    "b) Write a program that asks the user for an integer, then counts down from that integer and then prints the message \"Go\". Use a try-except to ensure the user entered an integer. If it is not an integer, return the message \"You must enter an integer\". Show the output of the program if the user inputs `3`. "
   ]
  },
  {
   "cell_type": "code",
   "execution_count": 2,
   "metadata": {},
   "outputs": [
    {
     "name": "stdout",
     "output_type": "stream",
     "text": [
      "3\n",
      "2\n",
      "1\n",
      "0\n",
      "Go\n"
     ]
    }
   ],
   "source": [
    "\n",
    "try:\n",
    "    x = int(input(\"Please enter an integer\"))\n",
    "    while x >= 0:\n",
    "        print(x)\n",
    "        x = x -1\n",
    "    print(\"Go\")\n",
    "\n",
    "except:\n",
    "        print(\"Error, not an integer try again\")\n",
    "        #try failed we print an error\n",
    "    \n"
   ]
  },
  {
   "cell_type": "markdown",
   "metadata": {},
   "source": [
    "c) Copy and modify part b to allow the user to keep entering input until they correctly enter an integer (ie: don't end after the except). Show the output of the program if the user first inputs `8.9` and then inputs `7`. "
   ]
  },
  {
   "cell_type": "code",
   "execution_count": 3,
   "metadata": {},
   "outputs": [
    {
     "name": "stdout",
     "output_type": "stream",
     "text": [
      "Error, not an integer try again\n",
      "7\n",
      "6\n",
      "5\n",
      "4\n",
      "3\n",
      "2\n",
      "1\n",
      "0\n",
      "Go\n"
     ]
    }
   ],
   "source": [
    "while True:\n",
    "    try:#keep looping until a valid input is found\n",
    "        x = int(input(\"Please enter an integer\"))\n",
    "        break#break once a valid int\n",
    "    except:\n",
    "        print(\"Error, not an integer try again\")#error print try again\n",
    "    #we only reach here once a valid int is passes\n",
    "while x >= 0:\n",
    "    print(x)\n",
    "    x = x -1\n",
    "print(\"Go\")"
   ]
  },
  {
   "cell_type": "markdown",
   "metadata": {},
   "source": [
    "### Question 2 (2 points)"
   ]
  },
  {
   "cell_type": "markdown",
   "metadata": {},
   "source": [
    "Print a star formation as follows:\n",
    "\n",
    "                                             * \n",
    "                                             * * \n",
    "                                             * * * \n",
    "                                             * * * * \n",
    "                                             \n",
    "Ask the user to input the height of the formation first. For example, 4 should return the formation above. Show the output of the program if the user inputs `5`. "
   ]
  },
  {
   "cell_type": "code",
   "execution_count": 1,
   "metadata": {},
   "outputs": [
    {
     "name": "stdout",
     "output_type": "stream",
     "text": [
      "\n",
      "* \n",
      "* * \n",
      "* * * \n",
      "* * * * \n",
      "* * * * * \n"
     ]
    }
   ],
   "source": [
    "x = int(input(\"Enter the height\"))\n",
    "#just print * multiplied by the number we are currently on up to our input number\n",
    "for _ in range(x+1):\n",
    "    print(\"* \"*_)\n",
    "\n"
   ]
  },
  {
   "cell_type": "markdown",
   "metadata": {},
   "source": [
    "### Question 3 (6 points)"
   ]
  },
  {
   "cell_type": "markdown",
   "metadata": {},
   "source": [
    "a) Write a program where you play 3 \"Rock, Paper, Scissors\" games against the computer. Simulate a random choice for the computer each game and ask the user to enter either rock, paper, or scissors. Print the number of times the user won out of 3 games. Show the output of the program after playing the game. \n",
    "\n",
    "Recall: rock beats scissors; scissors beats paper; paper beats rock.\n",
    "\n",
    "Example:\n",
    "\n",
    "                                    \"You won <num_win> out of 3 games.\""
   ]
  },
  {
   "cell_type": "code",
   "execution_count": 5,
   "metadata": {},
   "outputs": [
    {
     "name": "stdout",
     "output_type": "stream",
     "text": [
      "You won 2 out of 3 games\n"
     ]
    }
   ],
   "source": [
    "# import the random function and name the alias rm\n",
    "import random as rm\n",
    "\n",
    "# code to generate a random choice of rock, paper, scissors for the computer\n",
    "\n",
    "num_win = 0\n",
    "# keep track of wins\n",
    "for _ in range(3): # 3 times\n",
    "    enter = input(\"input rock paper or scissors\").strip().lower() # strip and lower so we dont have issues\n",
    "    computer_choice = rm.choice(['rock', 'paper', 'scissors'])# computers choice\n",
    "    if(enter == \"scissors\" and computer_choice == \"paper\") or (enter == \"rock\" and computer_choice == \"scissors\") or (enter == \"paper\" and computer_choice == \"rock\"):\n",
    "        num_win += 1  #we won based on the check add a win\n",
    "\n",
    "print(f\"You won {num_win} out of 3 games\")#print wins"
   ]
  },
  {
   "cell_type": "markdown",
   "metadata": {},
   "source": [
    "b) Write a program where you play \"Rock, Paper, Scissors\" games against the computer until you have won 3 games. Simulate a random choice for the computer each game and ask the user to enter either rock, paper, or scissors. Print the number of games it took to win 3 times. Show the output of the program after playing the game.\n",
    "\n",
    "Example:\n",
    "\n",
    "                                    \"You won 3 out of <num_games> games.\""
   ]
  },
  {
   "cell_type": "code",
   "execution_count": 6,
   "metadata": {},
   "outputs": [
    {
     "name": "stdout",
     "output_type": "stream",
     "text": [
      "You won 3 out of 6\n"
     ]
    }
   ],
   "source": [
    "num_win = 0 # win tracker\n",
    "games = 0# games tracker\n",
    "while num_win < 3: # keep looping until we hit 3 wins\n",
    "    computer_choice = rm.choice(['rock', 'paper', 'scissors'])\n",
    "\n",
    "    enter = input(\"input rock paper or scissors\").strip().lower()\n",
    "    if(enter == \"scissors\" and computer_choice == \"paper\") or (enter == \"rock\" and computer_choice == \"scissors\") or (enter == \"paper\" and computer_choice == \"rock\"):\n",
    "        num_win += 1 # won we increment\n",
    "    games += 1 #increment games everytime no matter a win loss or draw\n",
    "\n",
    "print(f\"You won 3 out of {games}\")\n",
    "\n",
    "\n",
    "\n"
   ]
  },
  {
   "cell_type": "markdown",
   "metadata": {},
   "source": [
    "### Question 4 (6 points)"
   ]
  },
  {
   "cell_type": "markdown",
   "metadata": {},
   "source": [
    "a) Write a program (loop) that prints all the factors of a positive integer input by the user. A factor is any positive integer that divides the number and leaves no remainder. Show the output of the program if the user inputs `24`. \n",
    "\n",
    "Example: The factors of 8 are 1, 2, 4, 8."
   ]
  },
  {
   "cell_type": "code",
   "execution_count": 9,
   "metadata": {},
   "outputs": [
    {
     "name": "stdout",
     "output_type": "stream",
     "text": [
      "The factors of 24 are 1, 2, 3, 4, 6, 8, 12, 24, \n"
     ]
    }
   ],
   "source": [
    "pos_integer = int(input(\"input a positive integer\"))# positive integer\n",
    "list = [] # list to keep track of factors\n",
    "string = f\"The factors of {pos_integer} are \"# string to output\n",
    "for _ in range(1, pos_integer+1): # check every number between 1 and the positive int\n",
    "    if pos_integer % _ == 0: # if its mod 0 its a factor\n",
    "         list.append(_)# append the facotr\n",
    "\n",
    "for factors in list: # for every facotr found add it to the string \n",
    "    string += str(factors) +\", \"\n",
    "\n",
    "print(string)# print the string\n",
    "\n"
   ]
  },
  {
   "cell_type": "markdown",
   "metadata": {},
   "source": [
    "b) Write a **function** called `number_of_factors` that takes an integer and returns how many factors the number has. Run your function with `24` to check if it works."
   ]
  },
  {
   "cell_type": "code",
   "execution_count": 14,
   "metadata": {},
   "outputs": [
    {
     "data": {
      "text/plain": [
       "8"
      ]
     },
     "execution_count": 14,
     "metadata": {},
     "output_type": "execute_result"
    }
   ],
   "source": [
    "def number_of_factors(positive_integer):\n",
    "    list_of_factors = []# same thing we keep a track of all factors\n",
    "    for _ in range(1, positive_integer + 1):\n",
    "        if positive_integer % _ == 0:\n",
    "            list_of_factors.append(_)\n",
    "\n",
    "    return(len(list_of_factors))# return len which is the number of factors in the list\n",
    "\n",
    "number_of_factors(24)"
   ]
  },
  {
   "cell_type": "markdown",
   "metadata": {},
   "source": [
    "### Question 5 (6 points)"
   ]
  },
  {
   "cell_type": "markdown",
   "metadata": {},
   "source": [
    "a) Write a program (loop) that identifies whether a positive integer input by the user is prime or not. A prime number is a number whose only divisors are 1 and itself. Show the output when the program is used to check if `89` is prime or not."
   ]
  },
  {
   "cell_type": "code",
   "execution_count": 29,
   "metadata": {},
   "outputs": [
    {
     "name": "stdout",
     "output_type": "stream",
     "text": [
      "89 is a prime number\n"
     ]
    }
   ],
   "source": [
    "positiveint = int(input(\"input a positive integer to check if prime\"))\n",
    "factors = []# list here\n",
    "for _ in range(1, positiveint +1):# loop through all integers\n",
    "    if positiveint % _ == 0: # if its a factor\n",
    "        factors.append(positiveint)#append it\n",
    "\n",
    "\n",
    "if len(factors) == 2:# prime numbers only have 2 fators max\n",
    "    print(f\"{positiveint} is a prime number\")\n",
    "else:\n",
    "    print(f\"{positiveint} is not a prime number\")\n",
    "\n",
    "\n"
   ]
  },
  {
   "cell_type": "markdown",
   "metadata": {},
   "source": [
    "b) Write a **function** that checks if a positive integer is prime or not. It should take one integer input and return a boolean. Run your function with `197` to check if it works."
   ]
  },
  {
   "cell_type": "code",
   "execution_count": 31,
   "metadata": {},
   "outputs": [
    {
     "data": {
      "text/plain": [
       "True"
      ]
     },
     "execution_count": 31,
     "metadata": {},
     "output_type": "execute_result"
    }
   ],
   "source": [
    "def prime(positiveint):\n",
    "    factors = []# same ting here\n",
    "    for _ in range(1, positiveint+1):\n",
    "        if positiveint % _ == 0:\n",
    "            factors.append(_)\n",
    "    return(len(factors) == 2) #returns a bool based on if theres 2 factors or not\n",
    "\n",
    "prime(197)\n"
   ]
  },
  {
   "cell_type": "markdown",
   "metadata": {},
   "source": [
    "### Question 6 (4 points)"
   ]
  },
  {
   "cell_type": "markdown",
   "metadata": {},
   "source": [
    "Write a function that calculates the area of a rectangle. The function should have an input for length (in inches) and width (in inches). And have 2 ouputs: the area in terms of square inches and the area in terms of square feet. There are 12 inches in 1 foot. Run your function with a length of 102 inches and width of 60 inches to check if it works."
   ]
  },
  {
   "cell_type": "code",
   "execution_count": 36,
   "metadata": {},
   "outputs": [
    {
     "data": {
      "text/plain": [
       "(6120, 42.5)"
      ]
     },
     "execution_count": 36,
     "metadata": {},
     "output_type": "execute_result"
    }
   ],
   "source": [
    "def area(length, width):\n",
    "    return length*width, (length*width)/144# divide by 144 because 12*12\n",
    "\n",
    "area(102,60)"
   ]
  },
  {
   "cell_type": "markdown",
   "metadata": {},
   "source": [
    "### Question 7 (3 points)"
   ]
  },
  {
   "cell_type": "markdown",
   "metadata": {},
   "source": [
    "Write a function that takes a word and a sentence as two string inputs and returns the number of times the word occurs in the sentence as the output.\n",
    "\n",
    "Run your function with **\"sea\"** and **“Sea shells are on the sea shore when the sea is calm.”** inputs to check if it works. Your function should work for any word and sentence. \n",
    "\n",
    "Note: at this time it does not have to differentiate a distinct word just if it appears in any form. Example: **“The sea gives me nausea.”** would return 2."
   ]
  },
  {
   "cell_type": "code",
   "execution_count": 38,
   "metadata": {},
   "outputs": [
    {
     "data": {
      "text/plain": [
       "3"
      ]
     },
     "execution_count": 38,
     "metadata": {},
     "output_type": "execute_result"
    }
   ],
   "source": [
    "def count_word(word, sentence):\n",
    "    return sentence.lower().count(word.lower()) # lower because \"Sea\" and \"sea\" will not match c vg9                                                                 55555555445455555544344434334343434434344545454544545444445\n",
    "\n",
    "count_word(\"sea\", \"Sea shells are on the sea shore when the sea is calm\")\n",
    "\n",
    "\n",
    "\n",
    "\n",
    "\n"
   ]
  }
 ],
 "metadata": {
  "kernelspec": {
   "display_name": "Python 3 (ipykernel)",
   "language": "python",
   "name": "python3"
  },
  "language_info": {
   "codemirror_mode": {
    "name": "ipython",
    "version": 3
   },
   "file_extension": ".py",
   "mimetype": "text/x-python",
   "name": "python",
   "nbconvert_exporter": "python",
   "pygments_lexer": "ipython3",
   "version": "3.11.9"
  }
 },
 "nbformat": 4,
 "nbformat_minor": 4
}
