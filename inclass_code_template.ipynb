{
 "cells": [
  {
   "cell_type": "raw",
   "metadata": {
    "vscode": {
     "languageId": "raw"
    }
   },
   "source": [
    "---\n",
    "title: \"Week 6 Coding Template (classes and objects)\"\n",
    "subtitle: \"STAT 201\"\n",
    "author: \"Rishi Ramaiya\"\n",
    "format:\n",
    "  html:\n",
    "    toc: true\n",
    "    embed-resources: true\n",
    "jupyter: python3\n",
    "---"
   ]
  },
  {
   "cell_type": "markdown",
   "metadata": {},
   "source": [
    "## Practice exercise 1\n",
    "\n",
    "### Objective  \n",
    "Design a **Password Manager** that allows users to manage their passwords while maintaining a history of only the last three passwords. It prevents users from reusing recently used passwords and ensures smooth password updates.\n",
    "\n",
    "### Problem Statement  \n",
    "You need to implement a class **`PasswordManager`** that provides the following functionalities:  \n",
    "\n",
    "1. **Check Recent Password Usage** – Checks whether a given password has been used recently (i.e., exists in the stored password list).  Returns `True` if the password is in the list, otherwise `False`.\n",
    "2. **Retrieve Current Password** - Returns the most recently used password (last password in the list).\n",
    "3. **Retrieve All Stored Passwords** – Returns a list of the last three stored passwords. \n",
    "4. **Change Password with History Restriction** \n",
    "      1. Allows the user to update their password only if it hasn’t been used recently.\n",
    "      2. If the new password is not in the stored list:\n",
    "          1. Adds the new password.\n",
    "          2. If there are already three passwords stored, it removes the oldest one before adding the new password.\n",
    "      3. If the password has been used recently, it displays a message prompting the user to choose a new one.\n"
   ]
  },
  {
   "cell_type": "code",
   "execution_count": 3,
   "metadata": {},
   "outputs": [],
   "source": [
    "class PasswordManager():\n",
    "    def __init__(self,passwords):\n",
    "        self.passwords = passwords\n",
    "\n",
    "    def is_recent_password(self, password):\n",
    "        return password in self.passwords\n",
    "    def get_current_password(self):\n",
    "        return self.passwords[-1]\n",
    "    \n",
    "    def all_passwords(self):\n",
    "        return self.passwords\n",
    "    \n",
    "    def set_password(self, newpass):\n",
    "        if newpass in self.passwords:\n",
    "            \"Print password already stored\"\n",
    "\n",
    "    def change_password(self, newpass):\n",
    "        if(self.is_recent_password(newpass)):\n",
    "            return \"Password cannot be the same as the last 3 passwords\"\n",
    "\n",
    "        else:\n",
    "            if(len(self.passwords)>=3):\n",
    "                self.passwords.pop(0)\n",
    "                self.passwords.append(newpass)  \n",
    "                return \"Password changed succesfully\"\n",
    "\n",
    "        \n",
    "\n",
    "        "
   ]
  },
  {
   "cell_type": "code",
   "execution_count": null,
   "metadata": {},
   "outputs": [
    {
     "name": "stdout",
     "output_type": "stream",
     "text": [
      "True\n",
      "True\n",
      "True\n"
     ]
    }
   ],
   "source": [
    "passwords = [\"password1\", \"password2\", \"password3\"]\n",
    "pm = PasswordManager(passwords)\n",
    "\n",
    "print(pm.is_recent_password(\"password1\"))\n",
    "print(pm.is_recent_password(\"password2\"))\n",
    "print(pm.is_recent_password(\"password3\"))\n"
   ]
  },
  {
   "cell_type": "markdown",
   "metadata": {},
   "source": [
    "## Practice exercise 3"
   ]
  },
  {
   "cell_type": "markdown",
   "metadata": {},
   "source": [
    "Define a class named `PasswordManagerUpdated` that inherits the class `PasswordManager` defined in Practice exercise 1. The class `PasswordManagerUpdated` should have two methods, other than the *constructor*:\n",
    "\n",
    "1. The method `set_password()` that sets a new password. The new password must only be accepted if \n",
    "      * At lest 8 characters long\n",
    "      * Contains at least one letter (uppercase or lowercase)\n",
    "      * Contains at least one digit\n",
    "      * Contains at least one punctuation character (`!@#$%^&*()_+...`)\n",
    "  Otherwise, display the information \"Password is not valid. Please choose a new password that contains at least one digit, one letter, and one special characters.\"\n",
    "\n",
    "2. The method `suggest_password()` that generates a random 15-character password containing letters (uppercase and lowercase), digits, and punctuation symbols so that the user can use it as his/her password\n",
    "\n",
    "**Hints:**\n",
    "\n",
    "* Use the `string` module to validate the password by defining a function named `is_valid_password`.\n",
    "* Use [`random.choices`](https://docs.python.org/3/library/random.html) to generate the suggested random password"
   ]
  },
  {
   "cell_type": "code",
   "execution_count": 7,
   "metadata": {},
   "outputs": [
    {
     "data": {
      "text/plain": [
       "'EJMdPfnS|JA(U]g'"
      ]
     },
     "execution_count": 7,
     "metadata": {},
     "output_type": "execute_result"
    }
   ],
   "source": [
    "import random\n",
    "import string\n",
    "random.choices(string.ascii_letters + string.digits + string.punctuation, k=15)\n",
    "\n",
    "\"\".join(random.choices(string.ascii_letters + string.digits + string.punctuation, k=15))\n",
    "\n",
    "    \n",
    "\n",
    "    "
   ]
  },
  {
   "cell_type": "markdown",
   "metadata": {},
   "source": [
    "### The `string` module in python\n",
    "\n",
    "The `string` module provides built-in constants that define common character types, so you don't have to manually specify them:\n",
    "\n",
    "* string.ascii_letters → \"abcdefghijklmnopqrstuvwxyzABCDEFGHIJKLMNOPQRSTUVWXYZ\"\n",
    "* string.digits → \"0123456789\"\n",
    "* string.punctuation → \"!\\\"#$%&'()*+,-./:;<=>?@[\\]^_{|}~\"`"
   ]
  },
  {
   "cell_type": "code",
   "execution_count": 1,
   "metadata": {},
   "outputs": [
    {
     "name": "stdout",
     "output_type": "stream",
     "text": [
      "abcdefghijklmnopqrstuvwxyzABCDEFGHIJKLMNOPQRSTUVWXYZ\n",
      "0123456789\n",
      "!\"#$%&'()*+,-./:;<=>?@[\\]^_`{|}~\n"
     ]
    }
   ],
   "source": [
    "import string\n",
    "print(string.ascii_letters)\n",
    "print(string.digits)\n",
    "print(string.punctuation)"
   ]
  },
  {
   "cell_type": "code",
   "execution_count": null,
   "metadata": {},
   "outputs": [],
   "source": [
    "new_password = ['password1']\n",
    "any(char in string.ascii_letters for char in new_password)"
   ]
  },
  {
   "cell_type": "code",
   "execution_count": null,
   "metadata": {},
   "outputs": [],
   "source": [
    "def is_valid_password(password):\n",
    "    if len(password) < 8:\n",
    "        return False\n",
    "    contains_letter = any(char in string.ascii_letters for char in password)\n",
    "    contais_digit = any(char in string.digits for char in password)\n",
    "    contains_punctuation = any(char in string.punctuation for char in password)\n",
    "\n",
    "    return contains_letter & contais_digit & contains_punctuation"
   ]
  },
  {
   "cell_type": "code",
   "execution_count": 8,
   "metadata": {},
   "outputs": [],
   "source": [
    "class PasswordManagerUpdated(PasswordManager):\n",
    "    def __init__(self,passwords):\n",
    "        super().__init__(passwords)\n",
    "    def set_password(self, newpass):\n",
    "        if not self.is_valid_password(newpass):\n",
    "            return \"Password is invalid\"\n",
    "        super().set_password(newpass)\n",
    "        return \"Password set successfully\"  \n",
    "    def suggest_password(self):\n",
    "        return \"\".join(random.choices(string.ascii_letters + string.digits + string.punctuation, k=15))\n",
    "\n",
    "    \n",
    "    def is_valid_password(self, password):\n",
    "            if len(password) < 8:\n",
    "                return False\n",
    "            if not any(char.isalpha() for char in password):\n",
    "                return False\n",
    "            if not any(char.isdigit() for char in password):\n",
    "                return False\n",
    "            if not any(char in string.punctuation for char in password):\n",
    "                return False\n",
    "            return True\n",
    "        "
   ]
  }
 ],
 "metadata": {
  "kernelspec": {
   "display_name": ".venv",
   "language": "python",
   "name": "python3"
  },
  "language_info": {
   "codemirror_mode": {
    "name": "ipython",
    "version": 3
   },
   "file_extension": ".py",
   "mimetype": "text/x-python",
   "name": "python",
   "nbconvert_exporter": "python",
   "pygments_lexer": "ipython3",
   "version": "3.11.9"
  }
 },
 "nbformat": 4,
 "nbformat_minor": 2
}
