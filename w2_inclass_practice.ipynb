{
 "cells": [
  {
   "cell_type": "raw",
   "metadata": {
    "vscode": {
     "languageId": "raw"
    }
   },
   "source": [
    "---\n",
    "title: \"Week 2 practice\"\n",
    "subtitle: \"STAT 201\"\n",
    "author: \"Notes\"\n",
    "format:\n",
    "  html:\n",
    "    toc: true\n",
    "    embed-resources: true\n",
    "---"
   ]
  },
  {
   "cell_type": "markdown",
   "metadata": {},
   "source": [
    "## User input"
   ]
  },
  {
   "cell_type": "code",
   "execution_count": 9,
   "metadata": {},
   "outputs": [
    {
     "name": "stdout",
     "output_type": "stream",
     "text": [
      "Hello, !\n"
     ]
    }
   ],
   "source": [
    "name = input(\"What is your name? \")\n",
    "print(\"Hello, \" + name + \"!\")"
   ]
  },
  {
   "cell_type": "code",
   "execution_count": 10,
   "metadata": {},
   "outputs": [
    {
     "name": "stdout",
     "output_type": "stream",
     "text": [
      "Hello, !\n"
     ]
    }
   ],
   "source": [
    "print(f\"Hello, {name}!\") # f-string"
   ]
  },
  {
   "cell_type": "code",
   "execution_count": 11,
   "metadata": {},
   "outputs": [
    {
     "name": "stdout",
     "output_type": "stream",
     "text": [
      "20 + 20 = 40\n"
     ]
    }
   ],
   "source": [
    "num1 = int(input(\"Enter a number: \"))\n",
    "num2 = int(input(\"Enter another number: \"))\n",
    "\n",
    "print(f\"{num1} + {num2} = {num1 + num2}\")"
   ]
  },
  {
   "cell_type": "code",
   "execution_count": 12,
   "metadata": {},
   "outputs": [
    {
     "name": "stdout",
     "output_type": "stream",
     "text": [
      "The sum of the two numbers is: 40\n"
     ]
    }
   ],
   "source": [
    "print(f\"The sum of the two numbers is: {num1 + num2}\") # f-string"
   ]
  },
  {
   "cell_type": "markdown",
   "metadata": {},
   "source": [
    "How to ensure valid input from user"
   ]
  },
  {
   "cell_type": "code",
   "execution_count": 13,
   "metadata": {},
   "outputs": [
    {
     "name": "stdout",
     "output_type": "stream",
     "text": [
      "The sum of the two numbers is: 40\n"
     ]
    }
   ],
   "source": [
    "try:\n",
    "    num1 = int(input(\"Enter a number: \"))\n",
    "    num2 = int(input(\"Enter another number: \"))\n",
    "    print(f\"The sum of the two numbers is: {num1 + num2}\")\n",
    "except ValueError:\n",
    "    print(\"Invalid input\")"
   ]
  },
  {
   "cell_type": "markdown",
   "metadata": {},
   "source": [
    "## f-string"
   ]
  },
  {
   "cell_type": "code",
   "execution_count": 14,
   "metadata": {},
   "outputs": [
    {
     "name": "stdout",
     "output_type": "stream",
     "text": [
      "my name is lizhen\n"
     ]
    }
   ],
   "source": [
    "name = \"lizhen\"\n",
    "print(f\"my name is {name}\")"
   ]
  },
  {
   "cell_type": "code",
   "execution_count": 15,
   "metadata": {},
   "outputs": [
    {
     "name": "stdout",
     "output_type": "stream",
     "text": [
      "num is 3.14\n",
      "num is 3\n"
     ]
    }
   ],
   "source": [
    "num = 3.1415926\n",
    "print(f\"num is {num:.2f}\")\n",
    "print(f\"num is {num:.0f}\")"
   ]
  },
  {
   "cell_type": "code",
   "execution_count": 16,
   "metadata": {},
   "outputs": [
    {
     "name": "stdout",
     "output_type": "stream",
     "text": [
      "num is 1,000,456\n"
     ]
    }
   ],
   "source": [
    "num = 1000456\n",
    "print(f\"num is {num:,}\")"
   ]
  },
  {
   "cell_type": "markdown",
   "metadata": {},
   "source": [
    "How to print out a pattern"
   ]
  },
  {
   "cell_type": "code",
   "execution_count": 3,
   "metadata": {},
   "outputs": [
    {
     "name": "stdout",
     "output_type": "stream",
     "text": [
      "********************\n",
      "*                  *\n",
      "*                  *\n",
      "*                  *\n",
      "********************\n"
     ]
    }
   ],
   "source": [
    "\n",
    "# ********************\n",
    "# *                  *\n",
    "# *                  *\n",
    "# *                  *\n",
    "# *                  *\n",
    "# ********************\n",
    "width = 20\n",
    "height = 5\n",
    "\n",
    "for i in range(height):\n",
    "    if i == 0 or i == height -1:\n",
    "        print(\"*\" * width)\n",
    "    else:\n",
    "        print(\"*\" + \" \" * (width - 2) + \"*\")"
   ]
  },
  {
   "cell_type": "code",
   "execution_count": 5,
   "metadata": {},
   "outputs": [
    {
     "name": "stdout",
     "output_type": "stream",
     "text": [
      "\n",
      "*\n",
      "**\n",
      "***\n",
      "****\n",
      "*****\n"
     ]
    }
   ],
   "source": [
    "# print a triangle such that the output is:\n",
    "# *\n",
    "# **\n",
    "# ***\n",
    "# ****\n",
    "# *****\n",
    "x = 0\n",
    "while x <6:\n",
    "    print(\"*\" * x)\n",
    "    x +=1\n"
   ]
  },
  {
   "cell_type": "code",
   "execution_count": 6,
   "metadata": {},
   "outputs": [
    {
     "name": "stdout",
     "output_type": "stream",
     "text": [
      "rishirishirishirishirishirishirishirishirishirishirishirishirishirishirishirishirishirishirishirishirishirishirishirishirishirishirishirishirishirishirishirishirishirishirishirishirishirishirishirishirishirishirishirishirishirishirishirishirishirishirishirishirishirishirishirishirishirishirishirishirishirishirishirishirishirishirishirishirishirishirishirishirishirishirishirishirishirishirishirishirishirishirishirishirishirishirishirishirishirishirishirishirishirishirishirishirishirishirishirishi\n"
     ]
    }
   ],
   "source": [
    "# print my name 100 times\n",
    "# using the * operator\n",
    "\n",
    "name = \"rishi\"\n",
    "\n",
    "print(name * 100)\n"
   ]
  },
  {
   "cell_type": "code",
   "execution_count": 10,
   "metadata": {},
   "outputs": [
    {
     "name": "stdout",
     "output_type": "stream",
     "text": [
      "rishi\n",
      "rishi\n",
      "rishi\n",
      "rishi\n",
      "rishi\n",
      "rishi\n",
      "rishi\n",
      "rishi\n",
      "rishi\n",
      "rishi\n",
      "rishi\n",
      "rishi\n",
      "rishi\n",
      "rishi\n",
      "rishi\n",
      "rishi\n",
      "rishi\n",
      "rishi\n",
      "rishi\n",
      "rishi\n",
      "rishi\n",
      "rishi\n",
      "rishi\n",
      "rishi\n",
      "rishi\n",
      "rishi\n",
      "rishi\n",
      "rishi\n",
      "rishi\n",
      "rishi\n",
      "rishi\n",
      "rishi\n",
      "rishi\n",
      "rishi\n",
      "rishi\n",
      "rishi\n",
      "rishi\n",
      "rishi\n",
      "rishi\n",
      "rishi\n",
      "rishi\n",
      "rishi\n",
      "rishi\n",
      "rishi\n",
      "rishi\n",
      "rishi\n",
      "rishi\n",
      "rishi\n",
      "rishi\n",
      "rishi\n",
      "rishi\n",
      "rishi\n",
      "rishi\n",
      "rishi\n",
      "rishi\n",
      "rishi\n",
      "rishi\n",
      "rishi\n",
      "rishi\n",
      "rishi\n",
      "rishi\n",
      "rishi\n",
      "rishi\n",
      "rishi\n",
      "rishi\n",
      "rishi\n",
      "rishi\n",
      "rishi\n",
      "rishi\n",
      "rishi\n",
      "rishi\n",
      "rishi\n",
      "rishi\n",
      "rishi\n",
      "rishi\n",
      "rishi\n",
      "rishi\n",
      "rishi\n",
      "rishi\n",
      "rishi\n",
      "rishi\n",
      "rishi\n",
      "rishi\n",
      "rishi\n",
      "rishi\n",
      "rishi\n",
      "rishi\n",
      "rishi\n",
      "rishi\n",
      "rishi\n",
      "rishi\n",
      "rishi\n",
      "rishi\n",
      "rishi\n",
      "rishi\n",
      "rishi\n",
      "rishi\n",
      "rishi\n",
      "rishi\n",
      "rishi\n"
     ]
    }
   ],
   "source": [
    "# print my name 100 times \n",
    "# using a for loop\n",
    "\n",
    "for x in range(100):\n",
    "    print(\"rishi\")\n",
    "\n"
   ]
  },
  {
   "cell_type": "code",
   "execution_count": 13,
   "metadata": {},
   "outputs": [
    {
     "name": "stdout",
     "output_type": "stream",
     "text": [
      "rishirishirishirishirishirishirishirishirishirishirishirishirishirishirishirishirishirishirishirishirishirishirishirishirishirishirishirishirishirishirishirishirishirishirishirishirishirishirishirishirishirishirishirishirishirishirishirishirishirishirishirishirishirishirishirishirishirishirishirishirishirishirishirishirishirishirishirishirishirishirishirishirishirishirishirishirishirishirishirishi\n",
      "rishirishirishirishirishirishirishirishirishirishirishirishirishirishirishirishirishirishirishirishirishirishirishirishirishirishirishirishirishirishirishirishirishirishirishirishirishirishirishirishirishirishirishirishirishirishirishirishirishirishirishirishirishirishirishirishirishirishirishirishirishirishirishirishirishirishirishirishirishirishirishirishirishirishirishirishirishirishirishirishi\n",
      "rishirishirishirishirishirishirishirishirishirishirishirishirishirishirishirishirishirishirishirishirishirishirishirishirishirishirishirishirishirishirishirishirishirishirishirishirishirishirishirishirishirishirishirishirishirishirishirishirishirishirishirishirishirishirishirishirishirishirishirishirishirishirishirishirishirishirishirishirishirishirishirishirishirishirishirishirishirishirishirishi\n",
      "rishirishirishirishirishirishirishirishirishirishirishirishirishirishirishirishirishirishirishirishirishirishirishirishirishirishirishirishirishirishirishirishirishirishirishirishirishirishirishirishirishirishirishirishirishirishirishirishirishirishirishirishirishirishirishirishirishirishirishirishirishirishirishirishirishirishirishirishirishirishirishirishirishirishirishirishirishirishirishirishi\n",
      "rishirishirishirishirishirishirishirishirishirishirishirishirishirishirishirishirishirishirishirishirishirishirishirishirishirishirishirishirishirishirishirishirishirishirishirishirishirishirishirishirishirishirishirishirishirishirishirishirishirishirishirishirishirishirishirishirishirishirishirishirishirishirishirishirishirishirishirishirishirishirishirishirishirishirishirishirishirishirishirishi\n",
      "rishirishirishirishirishirishirishirishirishirishirishirishirishirishirishirishirishirishirishirishirishirishirishirishirishirishirishirishirishirishirishirishirishirishirishirishirishirishirishirishirishirishirishirishirishirishirishirishirishirishirishirishirishirishirishirishirishirishirishirishirishirishirishirishirishirishirishirishirishirishirishirishirishirishirishirishirishirishirishirishi\n",
      "rishirishirishirishirishirishirishirishirishirishirishirishirishirishirishirishirishirishirishirishirishirishirishirishirishirishirishirishirishirishirishirishirishirishirishirishirishirishirishirishirishirishirishirishirishirishirishirishirishirishirishirishirishirishirishirishirishirishirishirishirishirishirishirishirishirishirishirishirishirishirishirishirishirishirishirishirishirishirishirishi\n",
      "rishirishirishirishirishirishirishirishirishirishirishirishirishirishirishirishirishirishirishirishirishirishirishirishirishirishirishirishirishirishirishirishirishirishirishirishirishirishirishirishirishirishirishirishirishirishirishirishirishirishirishirishirishirishirishirishirishirishirishirishirishirishirishirishirishirishirishirishirishirishirishirishirishirishirishirishirishirishirishirishi\n",
      "rishirishirishirishirishirishirishirishirishirishirishirishirishirishirishirishirishirishirishirishirishirishirishirishirishirishirishirishirishirishirishirishirishirishirishirishirishirishirishirishirishirishirishirishirishirishirishirishirishirishirishirishirishirishirishirishirishirishirishirishirishirishirishirishirishirishirishirishirishirishirishirishirishirishirishirishirishirishirishirishi\n",
      "rishirishirishirishirishirishirishirishirishirishirishirishirishirishirishirishirishirishirishirishirishirishirishirishirishirishirishirishirishirishirishirishirishirishirishirishirishirishirishirishirishirishirishirishirishirishirishirishirishirishirishirishirishirishirishirishirishirishirishirishirishirishirishirishirishirishirishirishirishirishirishirishirishirishirishirishirishirishirishirishi\n",
      "rishirishirishirishirishirishirishirishirishirishirishirishirishirishirishirishirishirishirishirishirishirishirishirishirishirishirishirishirishirishirishirishirishirishirishirishirishirishirishirishirishirishirishirishirishirishirishirishirishirishirishirishirishirishirishirishirishirishirishirishirishirishirishirishirishirishirishirishirishirishirishirishirishirishirishirishirishirishirishirishi\n",
      "rishirishirishirishirishirishirishirishirishirishirishirishirishirishirishirishirishirishirishirishirishirishirishirishirishirishirishirishirishirishirishirishirishirishirishirishirishirishirishirishirishirishirishirishirishirishirishirishirishirishirishirishirishirishirishirishirishirishirishirishirishirishirishirishirishirishirishirishirishirishirishirishirishirishirishirishirishirishirishirishi\n",
      "rishirishirishirishirishirishirishirishirishirishirishirishirishirishirishirishirishirishirishirishirishirishirishirishirishirishirishirishirishirishirishirishirishirishirishirishirishirishirishirishirishirishirishirishirishirishirishirishirishirishirishirishirishirishirishirishirishirishirishirishirishirishirishirishirishirishirishirishirishirishirishirishirishirishirishirishirishirishirishirishi\n",
      "rishirishirishirishirishirishirishirishirishirishirishirishirishirishirishirishirishirishirishirishirishirishirishirishirishirishirishirishirishirishirishirishirishirishirishirishirishirishirishirishirishirishirishirishirishirishirishirishirishirishirishirishirishirishirishirishirishirishirishirishirishirishirishirishirishirishirishirishirishirishirishirishirishirishirishirishirishirishirishirishi\n",
      "rishirishirishirishirishirishirishirishirishirishirishirishirishirishirishirishirishirishirishirishirishirishirishirishirishirishirishirishirishirishirishirishirishirishirishirishirishirishirishirishirishirishirishirishirishirishirishirishirishirishirishirishirishirishirishirishirishirishirishirishirishirishirishirishirishirishirishirishirishirishirishirishirishirishirishirishirishirishirishirishi\n",
      "rishirishirishirishirishirishirishirishirishirishirishirishirishirishirishirishirishirishirishirishirishirishirishirishirishirishirishirishirishirishirishirishirishirishirishirishirishirishirishirishirishirishirishirishirishirishirishirishirishirishirishirishirishirishirishirishirishirishirishirishirishirishirishirishirishirishirishirishirishirishirishirishirishirishirishirishirishirishirishirishi\n",
      "rishirishirishirishirishirishirishirishirishirishirishirishirishirishirishirishirishirishirishirishirishirishirishirishirishirishirishirishirishirishirishirishirishirishirishirishirishirishirishirishirishirishirishirishirishirishirishirishirishirishirishirishirishirishirishirishirishirishirishirishirishirishirishirishirishirishirishirishirishirishirishirishirishirishirishirishirishirishirishirishi\n",
      "rishirishirishirishirishirishirishirishirishirishirishirishirishirishirishirishirishirishirishirishirishirishirishirishirishirishirishirishirishirishirishirishirishirishirishirishirishirishirishirishirishirishirishirishirishirishirishirishirishirishirishirishirishirishirishirishirishirishirishirishirishirishirishirishirishirishirishirishirishirishirishirishirishirishirishirishirishirishirishirishi\n",
      "rishirishirishirishirishirishirishirishirishirishirishirishirishirishirishirishirishirishirishirishirishirishirishirishirishirishirishirishirishirishirishirishirishirishirishirishirishirishirishirishirishirishirishirishirishirishirishirishirishirishirishirishirishirishirishirishirishirishirishirishirishirishirishirishirishirishirishirishirishirishirishirishirishirishirishirishirishirishirishirishi\n",
      "rishirishirishirishirishirishirishirishirishirishirishirishirishirishirishirishirishirishirishirishirishirishirishirishirishirishirishirishirishirishirishirishirishirishirishirishirishirishirishirishirishirishirishirishirishirishirishirishirishirishirishirishirishirishirishirishirishirishirishirishirishirishirishirishirishirishirishirishirishirishirishirishirishirishirishirishirishirishirishirishi\n",
      "rishirishirishirishirishirishirishirishirishirishirishirishirishirishirishirishirishirishirishirishirishirishirishirishirishirishirishirishirishirishirishirishirishirishirishirishirishirishirishirishirishirishirishirishirishirishirishirishirishirishirishirishirishirishirishirishirishirishirishirishirishirishirishirishirishirishirishirishirishirishirishirishirishirishirishirishirishirishirishirishi\n",
      "rishirishirishirishirishirishirishirishirishirishirishirishirishirishirishirishirishirishirishirishirishirishirishirishirishirishirishirishirishirishirishirishirishirishirishirishirishirishirishirishirishirishirishirishirishirishirishirishirishirishirishirishirishirishirishirishirishirishirishirishirishirishirishirishirishirishirishirishirishirishirishirishirishirishirishirishirishirishirishirishi\n",
      "rishirishirishirishirishirishirishirishirishirishirishirishirishirishirishirishirishirishirishirishirishirishirishirishirishirishirishirishirishirishirishirishirishirishirishirishirishirishirishirishirishirishirishirishirishirishirishirishirishirishirishirishirishirishirishirishirishirishirishirishirishirishirishirishirishirishirishirishirishirishirishirishirishirishirishirishirishirishirishirishi\n",
      "rishirishirishirishirishirishirishirishirishirishirishirishirishirishirishirishirishirishirishirishirishirishirishirishirishirishirishirishirishirishirishirishirishirishirishirishirishirishirishirishirishirishirishirishirishirishirishirishirishirishirishirishirishirishirishirishirishirishirishirishirishirishirishirishirishirishirishirishirishirishirishirishirishirishirishirishirishirishirishirishi\n",
      "rishirishirishirishirishirishirishirishirishirishirishirishirishirishirishirishirishirishirishirishirishirishirishirishirishirishirishirishirishirishirishirishirishirishirishirishirishirishirishirishirishirishirishirishirishirishirishirishirishirishirishirishirishirishirishirishirishirishirishirishirishirishirishirishirishirishirishirishirishirishirishirishirishirishirishirishirishirishirishirishi\n",
      "rishirishirishirishirishirishirishirishirishirishirishirishirishirishirishirishirishirishirishirishirishirishirishirishirishirishirishirishirishirishirishirishirishirishirishirishirishirishirishirishirishirishirishirishirishirishirishirishirishirishirishirishirishirishirishirishirishirishirishirishirishirishirishirishirishirishirishirishirishirishirishirishirishirishirishirishirishirishirishirishi\n",
      "rishirishirishirishirishirishirishirishirishirishirishirishirishirishirishirishirishirishirishirishirishirishirishirishirishirishirishirishirishirishirishirishirishirishirishirishirishirishirishirishirishirishirishirishirishirishirishirishirishirishirishirishirishirishirishirishirishirishirishirishirishirishirishirishirishirishirishirishirishirishirishirishirishirishirishirishirishirishirishirishi\n",
      "rishirishirishirishirishirishirishirishirishirishirishirishirishirishirishirishirishirishirishirishirishirishirishirishirishirishirishirishirishirishirishirishirishirishirishirishirishirishirishirishirishirishirishirishirishirishirishirishirishirishirishirishirishirishirishirishirishirishirishirishirishirishirishirishirishirishirishirishirishirishirishirishirishirishirishirishirishirishirishirishi\n",
      "rishirishirishirishirishirishirishirishirishirishirishirishirishirishirishirishirishirishirishirishirishirishirishirishirishirishirishirishirishirishirishirishirishirishirishirishirishirishirishirishirishirishirishirishirishirishirishirishirishirishirishirishirishirishirishirishirishirishirishirishirishirishirishirishirishirishirishirishirishirishirishirishirishirishirishirishirishirishirishirishi\n",
      "rishirishirishirishirishirishirishirishirishirishirishirishirishirishirishirishirishirishirishirishirishirishirishirishirishirishirishirishirishirishirishirishirishirishirishirishirishirishirishirishirishirishirishirishirishirishirishirishirishirishirishirishirishirishirishirishirishirishirishirishirishirishirishirishirishirishirishirishirishirishirishirishirishirishirishirishirishirishirishirishi\n",
      "rishirishirishirishirishirishirishirishirishirishirishirishirishirishirishirishirishirishirishirishirishirishirishirishirishirishirishirishirishirishirishirishirishirishirishirishirishirishirishirishirishirishirishirishirishirishirishirishirishirishirishirishirishirishirishirishirishirishirishirishirishirishirishirishirishirishirishirishirishirishirishirishirishirishirishirishirishirishirishirishi\n",
      "rishirishirishirishirishirishirishirishirishirishirishirishirishirishirishirishirishirishirishirishirishirishirishirishirishirishirishirishirishirishirishirishirishirishirishirishirishirishirishirishirishirishirishirishirishirishirishirishirishirishirishirishirishirishirishirishirishirishirishirishirishirishirishirishirishirishirishirishirishirishirishirishirishirishirishirishirishirishirishirishi\n",
      "rishirishirishirishirishirishirishirishirishirishirishirishirishirishirishirishirishirishirishirishirishirishirishirishirishirishirishirishirishirishirishirishirishirishirishirishirishirishirishirishirishirishirishirishirishirishirishirishirishirishirishirishirishirishirishirishirishirishirishirishirishirishirishirishirishirishirishirishirishirishirishirishirishirishirishirishirishirishirishirishi\n",
      "rishirishirishirishirishirishirishirishirishirishirishirishirishirishirishirishirishirishirishirishirishirishirishirishirishirishirishirishirishirishirishirishirishirishirishirishirishirishirishirishirishirishirishirishirishirishirishirishirishirishirishirishirishirishirishirishirishirishirishirishirishirishirishirishirishirishirishirishirishirishirishirishirishirishirishirishirishirishirishirishi\n",
      "rishirishirishirishirishirishirishirishirishirishirishirishirishirishirishirishirishirishirishirishirishirishirishirishirishirishirishirishirishirishirishirishirishirishirishirishirishirishirishirishirishirishirishirishirishirishirishirishirishirishirishirishirishirishirishirishirishirishirishirishirishirishirishirishirishirishirishirishirishirishirishirishirishirishirishirishirishirishirishirishi\n",
      "rishirishirishirishirishirishirishirishirishirishirishirishirishirishirishirishirishirishirishirishirishirishirishirishirishirishirishirishirishirishirishirishirishirishirishirishirishirishirishirishirishirishirishirishirishirishirishirishirishirishirishirishirishirishirishirishirishirishirishirishirishirishirishirishirishirishirishirishirishirishirishirishirishirishirishirishirishirishirishirishi\n",
      "rishirishirishirishirishirishirishirishirishirishirishirishirishirishirishirishirishirishirishirishirishirishirishirishirishirishirishirishirishirishirishirishirishirishirishirishirishirishirishirishirishirishirishirishirishirishirishirishirishirishirishirishirishirishirishirishirishirishirishirishirishirishirishirishirishirishirishirishirishirishirishirishirishirishirishirishirishirishirishirishi\n",
      "rishirishirishirishirishirishirishirishirishirishirishirishirishirishirishirishirishirishirishirishirishirishirishirishirishirishirishirishirishirishirishirishirishirishirishirishirishirishirishirishirishirishirishirishirishirishirishirishirishirishirishirishirishirishirishirishirishirishirishirishirishirishirishirishirishirishirishirishirishirishirishirishirishirishirishirishirishirishirishirishi\n",
      "rishirishirishirishirishirishirishirishirishirishirishirishirishirishirishirishirishirishirishirishirishirishirishirishirishirishirishirishirishirishirishirishirishirishirishirishirishirishirishirishirishirishirishirishirishirishirishirishirishirishirishirishirishirishirishirishirishirishirishirishirishirishirishirishirishirishirishirishirishirishirishirishirishirishirishirishirishirishirishirishi\n",
      "rishirishirishirishirishirishirishirishirishirishirishirishirishirishirishirishirishirishirishirishirishirishirishirishirishirishirishirishirishirishirishirishirishirishirishirishirishirishirishirishirishirishirishirishirishirishirishirishirishirishirishirishirishirishirishirishirishirishirishirishirishirishirishirishirishirishirishirishirishirishirishirishirishirishirishirishirishirishirishirishi\n",
      "rishirishirishirishirishirishirishirishirishirishirishirishirishirishirishirishirishirishirishirishirishirishirishirishirishirishirishirishirishirishirishirishirishirishirishirishirishirishirishirishirishirishirishirishirishirishirishirishirishirishirishirishirishirishirishirishirishirishirishirishirishirishirishirishirishirishirishirishirishirishirishirishirishirishirishirishirishirishirishirishi\n",
      "rishirishirishirishirishirishirishirishirishirishirishirishirishirishirishirishirishirishirishirishirishirishirishirishirishirishirishirishirishirishirishirishirishirishirishirishirishirishirishirishirishirishirishirishirishirishirishirishirishirishirishirishirishirishirishirishirishirishirishirishirishirishirishirishirishirishirishirishirishirishirishirishirishirishirishirishirishirishirishirishi\n",
      "rishirishirishirishirishirishirishirishirishirishirishirishirishirishirishirishirishirishirishirishirishirishirishirishirishirishirishirishirishirishirishirishirishirishirishirishirishirishirishirishirishirishirishirishirishirishirishirishirishirishirishirishirishirishirishirishirishirishirishirishirishirishirishirishirishirishirishirishirishirishirishirishirishirishirishirishirishirishirishirishi\n",
      "rishirishirishirishirishirishirishirishirishirishirishirishirishirishirishirishirishirishirishirishirishirishirishirishirishirishirishirishirishirishirishirishirishirishirishirishirishirishirishirishirishirishirishirishirishirishirishirishirishirishirishirishirishirishirishirishirishirishirishirishirishirishirishirishirishirishirishirishirishirishirishirishirishirishirishirishirishirishirishirishi\n",
      "rishirishirishirishirishirishirishirishirishirishirishirishirishirishirishirishirishirishirishirishirishirishirishirishirishirishirishirishirishirishirishirishirishirishirishirishirishirishirishirishirishirishirishirishirishirishirishirishirishirishirishirishirishirishirishirishirishirishirishirishirishirishirishirishirishirishirishirishirishirishirishirishirishirishirishirishirishirishirishirishi\n",
      "rishirishirishirishirishirishirishirishirishirishirishirishirishirishirishirishirishirishirishirishirishirishirishirishirishirishirishirishirishirishirishirishirishirishirishirishirishirishirishirishirishirishirishirishirishirishirishirishirishirishirishirishirishirishirishirishirishirishirishirishirishirishirishirishirishirishirishirishirishirishirishirishirishirishirishirishirishirishirishirishi\n",
      "rishirishirishirishirishirishirishirishirishirishirishirishirishirishirishirishirishirishirishirishirishirishirishirishirishirishirishirishirishirishirishirishirishirishirishirishirishirishirishirishirishirishirishirishirishirishirishirishirishirishirishirishirishirishirishirishirishirishirishirishirishirishirishirishirishirishirishirishirishirishirishirishirishirishirishirishirishirishirishirishi\n",
      "rishirishirishirishirishirishirishirishirishirishirishirishirishirishirishirishirishirishirishirishirishirishirishirishirishirishirishirishirishirishirishirishirishirishirishirishirishirishirishirishirishirishirishirishirishirishirishirishirishirishirishirishirishirishirishirishirishirishirishirishirishirishirishirishirishirishirishirishirishirishirishirishirishirishirishirishirishirishirishirishi\n",
      "rishirishirishirishirishirishirishirishirishirishirishirishirishirishirishirishirishirishirishirishirishirishirishirishirishirishirishirishirishirishirishirishirishirishirishirishirishirishirishirishirishirishirishirishirishirishirishirishirishirishirishirishirishirishirishirishirishirishirishirishirishirishirishirishirishirishirishirishirishirishirishirishirishirishirishirishirishirishirishirishi\n",
      "rishirishirishirishirishirishirishirishirishirishirishirishirishirishirishirishirishirishirishirishirishirishirishirishirishirishirishirishirishirishirishirishirishirishirishirishirishirishirishirishirishirishirishirishirishirishirishirishirishirishirishirishirishirishirishirishirishirishirishirishirishirishirishirishirishirishirishirishirishirishirishirishirishirishirishirishirishirishirishirishi\n",
      "rishirishirishirishirishirishirishirishirishirishirishirishirishirishirishirishirishirishirishirishirishirishirishirishirishirishirishirishirishirishirishirishirishirishirishirishirishirishirishirishirishirishirishirishirishirishirishirishirishirishirishirishirishirishirishirishirishirishirishirishirishirishirishirishirishirishirishirishirishirishirishirishirishirishirishirishirishirishirishirishi\n",
      "rishirishirishirishirishirishirishirishirishirishirishirishirishirishirishirishirishirishirishirishirishirishirishirishirishirishirishirishirishirishirishirishirishirishirishirishirishirishirishirishirishirishirishirishirishirishirishirishirishirishirishirishirishirishirishirishirishirishirishirishirishirishirishirishirishirishirishirishirishirishirishirishirishirishirishirishirishirishirishirishi\n",
      "rishirishirishirishirishirishirishirishirishirishirishirishirishirishirishirishirishirishirishirishirishirishirishirishirishirishirishirishirishirishirishirishirishirishirishirishirishirishirishirishirishirishirishirishirishirishirishirishirishirishirishirishirishirishirishirishirishirishirishirishirishirishirishirishirishirishirishirishirishirishirishirishirishirishirishirishirishirishirishirishi\n",
      "rishirishirishirishirishirishirishirishirishirishirishirishirishirishirishirishirishirishirishirishirishirishirishirishirishirishirishirishirishirishirishirishirishirishirishirishirishirishirishirishirishirishirishirishirishirishirishirishirishirishirishirishirishirishirishirishirishirishirishirishirishirishirishirishirishirishirishirishirishirishirishirishirishirishirishirishirishirishirishirishi\n",
      "rishirishirishirishirishirishirishirishirishirishirishirishirishirishirishirishirishirishirishirishirishirishirishirishirishirishirishirishirishirishirishirishirishirishirishirishirishirishirishirishirishirishirishirishirishirishirishirishirishirishirishirishirishirishirishirishirishirishirishirishirishirishirishirishirishirishirishirishirishirishirishirishirishirishirishirishirishirishirishirishi\n",
      "rishirishirishirishirishirishirishirishirishirishirishirishirishirishirishirishirishirishirishirishirishirishirishirishirishirishirishirishirishirishirishirishirishirishirishirishirishirishirishirishirishirishirishirishirishirishirishirishirishirishirishirishirishirishirishirishirishirishirishirishirishirishirishirishirishirishirishirishirishirishirishirishirishirishirishirishirishirishirishirishi\n",
      "rishirishirishirishirishirishirishirishirishirishirishirishirishirishirishirishirishirishirishirishirishirishirishirishirishirishirishirishirishirishirishirishirishirishirishirishirishirishirishirishirishirishirishirishirishirishirishirishirishirishirishirishirishirishirishirishirishirishirishirishirishirishirishirishirishirishirishirishirishirishirishirishirishirishirishirishirishirishirishirishi\n",
      "rishirishirishirishirishirishirishirishirishirishirishirishirishirishirishirishirishirishirishirishirishirishirishirishirishirishirishirishirishirishirishirishirishirishirishirishirishirishirishirishirishirishirishirishirishirishirishirishirishirishirishirishirishirishirishirishirishirishirishirishirishirishirishirishirishirishirishirishirishirishirishirishirishirishirishirishirishirishirishirishi\n",
      "rishirishirishirishirishirishirishirishirishirishirishirishirishirishirishirishirishirishirishirishirishirishirishirishirishirishirishirishirishirishirishirishirishirishirishirishirishirishirishirishirishirishirishirishirishirishirishirishirishirishirishirishirishirishirishirishirishirishirishirishirishirishirishirishirishirishirishirishirishirishirishirishirishirishirishirishirishirishirishirishi\n",
      "rishirishirishirishirishirishirishirishirishirishirishirishirishirishirishirishirishirishirishirishirishirishirishirishirishirishirishirishirishirishirishirishirishirishirishirishirishirishirishirishirishirishirishirishirishirishirishirishirishirishirishirishirishirishirishirishirishirishirishirishirishirishirishirishirishirishirishirishirishirishirishirishirishirishirishirishirishirishirishirishi\n",
      "rishirishirishirishirishirishirishirishirishirishirishirishirishirishirishirishirishirishirishirishirishirishirishirishirishirishirishirishirishirishirishirishirishirishirishirishirishirishirishirishirishirishirishirishirishirishirishirishirishirishirishirishirishirishirishirishirishirishirishirishirishirishirishirishirishirishirishirishirishirishirishirishirishirishirishirishirishirishirishirishi\n",
      "rishirishirishirishirishirishirishirishirishirishirishirishirishirishirishirishirishirishirishirishirishirishirishirishirishirishirishirishirishirishirishirishirishirishirishirishirishirishirishirishirishirishirishirishirishirishirishirishirishirishirishirishirishirishirishirishirishirishirishirishirishirishirishirishirishirishirishirishirishirishirishirishirishirishirishirishirishirishirishirishi\n",
      "rishirishirishirishirishirishirishirishirishirishirishirishirishirishirishirishirishirishirishirishirishirishirishirishirishirishirishirishirishirishirishirishirishirishirishirishirishirishirishirishirishirishirishirishirishirishirishirishirishirishirishirishirishirishirishirishirishirishirishirishirishirishirishirishirishirishirishirishirishirishirishirishirishirishirishirishirishirishirishirishi\n",
      "rishirishirishirishirishirishirishirishirishirishirishirishirishirishirishirishirishirishirishirishirishirishirishirishirishirishirishirishirishirishirishirishirishirishirishirishirishirishirishirishirishirishirishirishirishirishirishirishirishirishirishirishirishirishirishirishirishirishirishirishirishirishirishirishirishirishirishirishirishirishirishirishirishirishirishirishirishirishirishirishi\n",
      "rishirishirishirishirishirishirishirishirishirishirishirishirishirishirishirishirishirishirishirishirishirishirishirishirishirishirishirishirishirishirishirishirishirishirishirishirishirishirishirishirishirishirishirishirishirishirishirishirishirishirishirishirishirishirishirishirishirishirishirishirishirishirishirishirishirishirishirishirishirishirishirishirishirishirishirishirishirishirishirishi\n",
      "rishirishirishirishirishirishirishirishirishirishirishirishirishirishirishirishirishirishirishirishirishirishirishirishirishirishirishirishirishirishirishirishirishirishirishirishirishirishirishirishirishirishirishirishirishirishirishirishirishirishirishirishirishirishirishirishirishirishirishirishirishirishirishirishirishirishirishirishirishirishirishirishirishirishirishirishirishirishirishirishi\n",
      "rishirishirishirishirishirishirishirishirishirishirishirishirishirishirishirishirishirishirishirishirishirishirishirishirishirishirishirishirishirishirishirishirishirishirishirishirishirishirishirishirishirishirishirishirishirishirishirishirishirishirishirishirishirishirishirishirishirishirishirishirishirishirishirishirishirishirishirishirishirishirishirishirishirishirishirishirishirishirishirishi\n",
      "rishirishirishirishirishirishirishirishirishirishirishirishirishirishirishirishirishirishirishirishirishirishirishirishirishirishirishirishirishirishirishirishirishirishirishirishirishirishirishirishirishirishirishirishirishirishirishirishirishirishirishirishirishirishirishirishirishirishirishirishirishirishirishirishirishirishirishirishirishirishirishirishirishirishirishirishirishirishirishirishi\n",
      "rishirishirishirishirishirishirishirishirishirishirishirishirishirishirishirishirishirishirishirishirishirishirishirishirishirishirishirishirishirishirishirishirishirishirishirishirishirishirishirishirishirishirishirishirishirishirishirishirishirishirishirishirishirishirishirishirishirishirishirishirishirishirishirishirishirishirishirishirishirishirishirishirishirishirishirishirishirishirishirishi\n",
      "rishirishirishirishirishirishirishirishirishirishirishirishirishirishirishirishirishirishirishirishirishirishirishirishirishirishirishirishirishirishirishirishirishirishirishirishirishirishirishirishirishirishirishirishirishirishirishirishirishirishirishirishirishirishirishirishirishirishirishirishirishirishirishirishirishirishirishirishirishirishirishirishirishirishirishirishirishirishirishirishi\n",
      "rishirishirishirishirishirishirishirishirishirishirishirishirishirishirishirishirishirishirishirishirishirishirishirishirishirishirishirishirishirishirishirishirishirishirishirishirishirishirishirishirishirishirishirishirishirishirishirishirishirishirishirishirishirishirishirishirishirishirishirishirishirishirishirishirishirishirishirishirishirishirishirishirishirishirishirishirishirishirishirishi\n",
      "rishirishirishirishirishirishirishirishirishirishirishirishirishirishirishirishirishirishirishirishirishirishirishirishirishirishirishirishirishirishirishirishirishirishirishirishirishirishirishirishirishirishirishirishirishirishirishirishirishirishirishirishirishirishirishirishirishirishirishirishirishirishirishirishirishirishirishirishirishirishirishirishirishirishirishirishirishirishirishirishi\n",
      "rishirishirishirishirishirishirishirishirishirishirishirishirishirishirishirishirishirishirishirishirishirishirishirishirishirishirishirishirishirishirishirishirishirishirishirishirishirishirishirishirishirishirishirishirishirishirishirishirishirishirishirishirishirishirishirishirishirishirishirishirishirishirishirishirishirishirishirishirishirishirishirishirishirishirishirishirishirishirishirishi\n",
      "rishirishirishirishirishirishirishirishirishirishirishirishirishirishirishirishirishirishirishirishirishirishirishirishirishirishirishirishirishirishirishirishirishirishirishirishirishirishirishirishirishirishirishirishirishirishirishirishirishirishirishirishirishirishirishirishirishirishirishirishirishirishirishirishirishirishirishirishirishirishirishirishirishirishirishirishirishirishirishirishi\n",
      "rishirishirishirishirishirishirishirishirishirishirishirishirishirishirishirishirishirishirishirishirishirishirishirishirishirishirishirishirishirishirishirishirishirishirishirishirishirishirishirishirishirishirishirishirishirishirishirishirishirishirishirishirishirishirishirishirishirishirishirishirishirishirishirishirishirishirishirishirishirishirishirishirishirishirishirishirishirishirishirishi\n",
      "rishirishirishirishirishirishirishirishirishirishirishirishirishirishirishirishirishirishirishirishirishirishirishirishirishirishirishirishirishirishirishirishirishirishirishirishirishirishirishirishirishirishirishirishirishirishirishirishirishirishirishirishirishirishirishirishirishirishirishirishirishirishirishirishirishirishirishirishirishirishirishirishirishirishirishirishirishirishirishirishi\n",
      "rishirishirishirishirishirishirishirishirishirishirishirishirishirishirishirishirishirishirishirishirishirishirishirishirishirishirishirishirishirishirishirishirishirishirishirishirishirishirishirishirishirishirishirishirishirishirishirishirishirishirishirishirishirishirishirishirishirishirishirishirishirishirishirishirishirishirishirishirishirishirishirishirishirishirishirishirishirishirishirishi\n",
      "rishirishirishirishirishirishirishirishirishirishirishirishirishirishirishirishirishirishirishirishirishirishirishirishirishirishirishirishirishirishirishirishirishirishirishirishirishirishirishirishirishirishirishirishirishirishirishirishirishirishirishirishirishirishirishirishirishirishirishirishirishirishirishirishirishirishirishirishirishirishirishirishirishirishirishirishirishirishirishirishi\n",
      "rishirishirishirishirishirishirishirishirishirishirishirishirishirishirishirishirishirishirishirishirishirishirishirishirishirishirishirishirishirishirishirishirishirishirishirishirishirishirishirishirishirishirishirishirishirishirishirishirishirishirishirishirishirishirishirishirishirishirishirishirishirishirishirishirishirishirishirishirishirishirishirishirishirishirishirishirishirishirishirishi\n",
      "rishirishirishirishirishirishirishirishirishirishirishirishirishirishirishirishirishirishirishirishirishirishirishirishirishirishirishirishirishirishirishirishirishirishirishirishirishirishirishirishirishirishirishirishirishirishirishirishirishirishirishirishirishirishirishirishirishirishirishirishirishirishirishirishirishirishirishirishirishirishirishirishirishirishirishirishirishirishirishirishi\n",
      "rishirishirishirishirishirishirishirishirishirishirishirishirishirishirishirishirishirishirishirishirishirishirishirishirishirishirishirishirishirishirishirishirishirishirishirishirishirishirishirishirishirishirishirishirishirishirishirishirishirishirishirishirishirishirishirishirishirishirishirishirishirishirishirishirishirishirishirishirishirishirishirishirishirishirishirishirishirishirishirishi\n",
      "rishirishirishirishirishirishirishirishirishirishirishirishirishirishirishirishirishirishirishirishirishirishirishirishirishirishirishirishirishirishirishirishirishirishirishirishirishirishirishirishirishirishirishirishirishirishirishirishirishirishirishirishirishirishirishirishirishirishirishirishirishirishirishirishirishirishirishirishirishirishirishirishirishirishirishirishirishirishirishirishi\n",
      "rishirishirishirishirishirishirishirishirishirishirishirishirishirishirishirishirishirishirishirishirishirishirishirishirishirishirishirishirishirishirishirishirishirishirishirishirishirishirishirishirishirishirishirishirishirishirishirishirishirishirishirishirishirishirishirishirishirishirishirishirishirishirishirishirishirishirishirishirishirishirishirishirishirishirishirishirishirishirishirishi\n",
      "rishirishirishirishirishirishirishirishirishirishirishirishirishirishirishirishirishirishirishirishirishirishirishirishirishirishirishirishirishirishirishirishirishirishirishirishirishirishirishirishirishirishirishirishirishirishirishirishirishirishirishirishirishirishirishirishirishirishirishirishirishirishirishirishirishirishirishirishirishirishirishirishirishirishirishirishirishirishirishirishi\n",
      "rishirishirishirishirishirishirishirishirishirishirishirishirishirishirishirishirishirishirishirishirishirishirishirishirishirishirishirishirishirishirishirishirishirishirishirishirishirishirishirishirishirishirishirishirishirishirishirishirishirishirishirishirishirishirishirishirishirishirishirishirishirishirishirishirishirishirishirishirishirishirishirishirishirishirishirishirishirishirishirishi\n",
      "rishirishirishirishirishirishirishirishirishirishirishirishirishirishirishirishirishirishirishirishirishirishirishirishirishirishirishirishirishirishirishirishirishirishirishirishirishirishirishirishirishirishirishirishirishirishirishirishirishirishirishirishirishirishirishirishirishirishirishirishirishirishirishirishirishirishirishirishirishirishirishirishirishirishirishirishirishirishirishirishi\n",
      "rishirishirishirishirishirishirishirishirishirishirishirishirishirishirishirishirishirishirishirishirishirishirishirishirishirishirishirishirishirishirishirishirishirishirishirishirishirishirishirishirishirishirishirishirishirishirishirishirishirishirishirishirishirishirishirishirishirishirishirishirishirishirishirishirishirishirishirishirishirishirishirishirishirishirishirishirishirishirishirishi\n",
      "rishirishirishirishirishirishirishirishirishirishirishirishirishirishirishirishirishirishirishirishirishirishirishirishirishirishirishirishirishirishirishirishirishirishirishirishirishirishirishirishirishirishirishirishirishirishirishirishirishirishirishirishirishirishirishirishirishirishirishirishirishirishirishirishirishirishirishirishirishirishirishirishirishirishirishirishirishirishirishirishi\n",
      "rishirishirishirishirishirishirishirishirishirishirishirishirishirishirishirishirishirishirishirishirishirishirishirishirishirishirishirishirishirishirishirishirishirishirishirishirishirishirishirishirishirishirishirishirishirishirishirishirishirishirishirishirishirishirishirishirishirishirishirishirishirishirishirishirishirishirishirishirishirishirishirishirishirishirishirishirishirishirishirishi\n",
      "rishirishirishirishirishirishirishirishirishirishirishirishirishirishirishirishirishirishirishirishirishirishirishirishirishirishirishirishirishirishirishirishirishirishirishirishirishirishirishirishirishirishirishirishirishirishirishirishirishirishirishirishirishirishirishirishirishirishirishirishirishirishirishirishirishirishirishirishirishirishirishirishirishirishirishirishirishirishirishirishi\n",
      "rishirishirishirishirishirishirishirishirishirishirishirishirishirishirishirishirishirishirishirishirishirishirishirishirishirishirishirishirishirishirishirishirishirishirishirishirishirishirishirishirishirishirishirishirishirishirishirishirishirishirishirishirishirishirishirishirishirishirishirishirishirishirishirishirishirishirishirishirishirishirishirishirishirishirishirishirishirishirishirishi\n",
      "rishirishirishirishirishirishirishirishirishirishirishirishirishirishirishirishirishirishirishirishirishirishirishirishirishirishirishirishirishirishirishirishirishirishirishirishirishirishirishirishirishirishirishirishirishirishirishirishirishirishirishirishirishirishirishirishirishirishirishirishirishirishirishirishirishirishirishirishirishirishirishirishirishirishirishirishirishirishirishirishi\n",
      "rishirishirishirishirishirishirishirishirishirishirishirishirishirishirishirishirishirishirishirishirishirishirishirishirishirishirishirishirishirishirishirishirishirishirishirishirishirishirishirishirishirishirishirishirishirishirishirishirishirishirishirishirishirishirishirishirishirishirishirishirishirishirishirishirishirishirishirishirishirishirishirishirishirishirishirishirishirishirishirishi\n",
      "rishirishirishirishirishirishirishirishirishirishirishirishirishirishirishirishirishirishirishirishirishirishirishirishirishirishirishirishirishirishirishirishirishirishirishirishirishirishirishirishirishirishirishirishirishirishirishirishirishirishirishirishirishirishirishirishirishirishirishirishirishirishirishirishirishirishirishirishirishirishirishirishirishirishirishirishirishirishirishirishi\n",
      "rishirishirishirishirishirishirishirishirishirishirishirishirishirishirishirishirishirishirishirishirishirishirishirishirishirishirishirishirishirishirishirishirishirishirishirishirishirishirishirishirishirishirishirishirishirishirishirishirishirishirishirishirishirishirishirishirishirishirishirishirishirishirishirishirishirishirishirishirishirishirishirishirishirishirishirishirishirishirishirishi\n",
      "rishirishirishirishirishirishirishirishirishirishirishirishirishirishirishirishirishirishirishirishirishirishirishirishirishirishirishirishirishirishirishirishirishirishirishirishirishirishirishirishirishirishirishirishirishirishirishirishirishirishirishirishirishirishirishirishirishirishirishirishirishirishirishirishirishirishirishirishirishirishirishirishirishirishirishirishirishirishirishirishi\n",
      "rishirishirishirishirishirishirishirishirishirishirishirishirishirishirishirishirishirishirishirishirishirishirishirishirishirishirishirishirishirishirishirishirishirishirishirishirishirishirishirishirishirishirishirishirishirishirishirishirishirishirishirishirishirishirishirishirishirishirishirishirishirishirishirishirishirishirishirishirishirishirishirishirishirishirishirishirishirishirishirishi\n",
      "rishirishirishirishirishirishirishirishirishirishirishirishirishirishirishirishirishirishirishirishirishirishirishirishirishirishirishirishirishirishirishirishirishirishirishirishirishirishirishirishirishirishirishirishirishirishirishirishirishirishirishirishirishirishirishirishirishirishirishirishirishirishirishirishirishirishirishirishirishirishirishirishirishirishirishirishirishirishirishirishi\n",
      "rishirishirishirishirishirishirishirishirishirishirishirishirishirishirishirishirishirishirishirishirishirishirishirishirishirishirishirishirishirishirishirishirishirishirishirishirishirishirishirishirishirishirishirishirishirishirishirishirishirishirishirishirishirishirishirishirishirishirishirishirishirishirishirishirishirishirishirishirishirishirishirishirishirishirishirishirishirishirishirishi\n",
      "rishirishirishirishirishirishirishirishirishirishirishirishirishirishirishirishirishirishirishirishirishirishirishirishirishirishirishirishirishirishirishirishirishirishirishirishirishirishirishirishirishirishirishirishirishirishirishirishirishirishirishirishirishirishirishirishirishirishirishirishirishirishirishirishirishirishirishirishirishirishirishirishirishirishirishirishirishirishirishirishi\n"
     ]
    }
   ],
   "source": [
    "# print my name 80 times a line and 100 lines\n",
    "\n",
    "name = \"rishi\"\n",
    "x = 0\n",
    "while x < 100:\n",
    "    print(name* 80)\n",
    "    x=x+1"
   ]
  },
  {
   "cell_type": "code",
   "execution_count": 23,
   "metadata": {},
   "outputs": [],
   "source": [
    "# accept user input for the number of fibonacci numbers to generate, \n",
    "# and then generate that many fibonacci numbers, separated by commas"
   ]
  },
  {
   "cell_type": "markdown",
   "metadata": {},
   "source": [
    "## If Statements"
   ]
  },
  {
   "cell_type": "markdown",
   "metadata": {},
   "source": [
    "Problem 1: A simple use of an if statement is to assign letter grades. Suppose that scores 90 and above are A’s,\n",
    "scores in the 80s are B’s, 70s are C’s, 60s are D’s, and anything below 60 is an F."
   ]
  },
  {
   "cell_type": "code",
   "execution_count": 14,
   "metadata": {},
   "outputs": [],
   "source": [
    "# using only if\n",
    "\n",
    "score = 90\n",
    "\n",
    "if score > 90:\n",
    "    grade = \"A\"\n",
    "elif score > 80:\n",
    "    grade = \"B\"\n",
    "elif score > 70:\n",
    "    grade = \"C\"\n",
    "elif score > 60:\n",
    "    grade = \"D\"\n",
    "else:\n",
    "    grade = \"F\"    "
   ]
  },
  {
   "cell_type": "markdown",
   "metadata": {},
   "source": [
    "A more elegent way to do this is using if-elif-else,"
   ]
  },
  {
   "cell_type": "code",
   "execution_count": 15,
   "metadata": {},
   "outputs": [],
   "source": [
    "# using if-elif-else\n",
    "score = 90\n",
    "\n",
    "if score > 90:\n",
    "    grade = \"A\"\n",
    "elif score > 80:\n",
    "    grade = \"B\"\n",
    "elif score > 70:\n",
    "    grade = \"C\"\n",
    "elif score > 60:\n",
    "    grade = \"D\"\n",
    "else:\n",
    "    grade = \"F\" "
   ]
  },
  {
   "cell_type": "markdown",
   "metadata": {},
   "source": [
    "Problem 2: Ask the user for a temperature. Then ask them what units, Celsius or Fahrenheit, the temperature is in. Your program should convert the temperature to the other unit. The conversions\n",
    "are F = (9/5)C + 32 and C = (5/9)(F-32)"
   ]
  },
  {
   "cell_type": "code",
   "execution_count": 19,
   "metadata": {},
   "outputs": [
    {
     "name": "stdout",
     "output_type": "stream",
     "text": [
      "celsius is 0.0\n"
     ]
    }
   ],
   "source": [
    "temperature = int(input(\"temperature\"))\n",
    "type = input(\"celsius or farenheit\")\n",
    "\n",
    "if(type == \"celsius\"):\n",
    "    print(f\"farenheit is {(temperature*9/5) + 32}\")\n",
    "else:\n",
    "    print(f\"celsius is {(temperature * 5/9)* (temperature-32)}\")\n",
    "\n"
   ]
  },
  {
   "cell_type": "markdown",
   "metadata": {},
   "source": [
    "Problem 3: Write a program that asks the user how many credits they have taken. If they have taken 23 or less, print that the student is a freshman. If they have taken between 24 and 53, print that they are a sophomore. The range for juniors is 54 to 83, and for seniors it is 84 and over."
   ]
  },
  {
   "cell_type": "markdown",
   "metadata": {},
   "source": []
  },
  {
   "cell_type": "markdown",
   "metadata": {},
   "source": [
    "## Python Strings"
   ]
  },
  {
   "cell_type": "code",
   "execution_count": 26,
   "metadata": {},
   "outputs": [],
   "source": [
    "s, t = \"Lizhen\", 'Shi'\n",
    "m = \"\"\"this is a long string that spread ac\n",
    "cross two lines\"\"\""
   ]
  },
  {
   "cell_type": "markdown",
   "metadata": {},
   "source": [
    "Define a f-string\n",
    "\n",
    "`f\"string with {expression}\"`"
   ]
  },
  {
   "cell_type": "code",
   "execution_count": 27,
   "metadata": {},
   "outputs": [
    {
     "name": "stdout",
     "output_type": "stream",
     "text": [
      "My name is Lizhen Shi\n"
     ]
    }
   ],
   "source": [
    "greeting = f\"My name is {s} {t}\"\n",
    "print(greeting)"
   ]
  },
  {
   "cell_type": "markdown",
   "metadata": {},
   "source": [
    "Get the length of string"
   ]
  },
  {
   "cell_type": "code",
   "execution_count": 28,
   "metadata": {},
   "outputs": [
    {
     "name": "stdout",
     "output_type": "stream",
     "text": [
      "21\n"
     ]
    }
   ],
   "source": [
    "print(len(greeting))"
   ]
  },
  {
   "cell_type": "markdown",
   "metadata": {},
   "source": [
    "String concatenation and repetition"
   ]
  },
  {
   "cell_type": "code",
   "execution_count": 29,
   "metadata": {},
   "outputs": [
    {
     "name": "stdout",
     "output_type": "stream",
     "text": [
      "rishiramaiya\n"
     ]
    }
   ],
   "source": [
    "# concatenate two strings using the + operator\n",
    "# repeat the s string 100 times using the * operator\n",
    "firstname = 'rishi'\n",
    "lastname = 'ramaiya'\n",
    "print(firstname + lastname)"
   ]
  },
  {
   "cell_type": "markdown",
   "metadata": {},
   "source": [
    "### String Methods\n",
    "\n",
    "* `lower()`: returns a string with every letter of the original in lowercase\n",
    "* `upper()`: returns a string with every letter of the original in uppercase\n",
    "* `replace(x,y)`: returns a string with every occurrence of x replaced by y\n",
    "* `count(x)`: counts the number of occurrences of x in the string\n",
    "* `index(x)`: returns the location of the first occurrence of x\n",
    "* `format()`: format strings\n",
    "* `isalpha()`: returns True if every character of the string is a letter\n",
    "\n",
    "[comprehensive list of all string methods](https://www.w3schools.com/python/python_ref_string.asp)"
   ]
  },
  {
   "cell_type": "markdown",
   "metadata": {},
   "source": [
    "### `str.format`\n",
    "\n",
    "It uses curly braces {} as placeholders within the string, which are filled in with values using positional or keyword arguments."
   ]
  },
  {
   "cell_type": "code",
   "execution_count": 19,
   "metadata": {},
   "outputs": [
    {
     "name": "stdout",
     "output_type": "stream",
     "text": [
      "Hello Lizhen, your score is 95\n"
     ]
    }
   ],
   "source": [
    "name = \"Lizhen\"\n",
    "score = 95\n",
    "print(f\"Hello {name}, your score is {score}\")"
   ]
  },
  {
   "cell_type": "code",
   "execution_count": 20,
   "metadata": {},
   "outputs": [
    {
     "name": "stdout",
     "output_type": "stream",
     "text": [
      "hello Lizhen, your score is 95\n"
     ]
    }
   ],
   "source": [
    "print(\"hello {}, your score is {}\".format(name, score))"
   ]
  },
  {
   "cell_type": "markdown",
   "metadata": {},
   "source": [
    "### String Indexing\n",
    "\n",
    "Pick out individual characters from a string or pick a substring"
   ]
  },
  {
   "cell_type": "code",
   "execution_count": 30,
   "metadata": {},
   "outputs": [],
   "source": [
    "# print out the first letter\n",
    "#print out the last letter"
   ]
  },
  {
   "cell_type": "markdown",
   "metadata": {},
   "source": [
    "### The `in` operator\n",
    "\n",
    "Used to tell if a string contains something"
   ]
  },
  {
   "cell_type": "code",
   "execution_count": 31,
   "metadata": {},
   "outputs": [],
   "source": [
    "# using in operator in python\n",
    "\n",
    "multi_line_string = \"\"\"this is a long string\n",
    "that spans multiple lines\n",
    "\"\"\"\n",
    "\n",
    "# check whether is exists in the string"
   ]
  },
  {
   "cell_type": "markdown",
   "metadata": {},
   "source": [
    "count the number of times the letter 'i' appears in the string m using two ways"
   ]
  },
  {
   "cell_type": "markdown",
   "metadata": {},
   "source": []
  },
  {
   "cell_type": "markdown",
   "metadata": {},
   "source": [
    "count the number of \"is\" in m"
   ]
  },
  {
   "cell_type": "code",
   "execution_count": 21,
   "metadata": {},
   "outputs": [
    {
     "data": {
      "text/plain": [
       "2"
      ]
     },
     "execution_count": 21,
     "metadata": {},
     "output_type": "execute_result"
    }
   ],
   "source": [
    "m.count(\"is\")"
   ]
  },
  {
   "cell_type": "code",
   "execution_count": 22,
   "metadata": {},
   "outputs": [
    {
     "data": {
      "text/plain": [
       "1"
      ]
     },
     "execution_count": 22,
     "metadata": {},
     "output_type": "execute_result"
    }
   ],
   "source": [
    "m.split().count(\"is\")"
   ]
  },
  {
   "cell_type": "code",
   "execution_count": null,
   "metadata": {},
   "outputs": [],
   "source": []
  }
 ],
 "metadata": {
  "kernelspec": {
   "display_name": ".venv",
   "language": "python",
   "name": "python3"
  },
  "language_info": {
   "codemirror_mode": {
    "name": "ipython",
    "version": 3
   },
   "file_extension": ".py",
   "mimetype": "text/x-python",
   "name": "python",
   "nbconvert_exporter": "python",
   "pygments_lexer": "ipython3",
   "version": "3.11.9"
  }
 },
 "nbformat": 4,
 "nbformat_minor": 2
}
