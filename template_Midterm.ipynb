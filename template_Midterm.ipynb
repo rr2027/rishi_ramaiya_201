{
 "cells": [
  {
   "cell_type": "raw",
   "id": "db6908b1",
   "metadata": {
    "vscode": {
     "languageId": "raw"
    }
   },
   "source": [
    "---\n",
    "title: \"Midterm Coding Solution\"\n",
    "subtitle: \"STAT 201\"\n",
    "author: \"Rishi Ramaiya\"\n",
    "format:\n",
    "  html:\n",
    "    toc: true\n",
    "    embed-resources: true\n",
    "---"
   ]
  },
  {
   "cell_type": "markdown",
   "id": "0e5b3ef0",
   "metadata": {},
   "source": []
  },
  {
   "cell_type": "markdown",
   "id": "14376537",
   "metadata": {},
   "source": [
    "### Instructions"
   ]
  },
  {
   "cell_type": "markdown",
   "id": "fe725fb7",
   "metadata": {},
   "source": [
    "1. **Write your name** at the top!\n",
    "2. Feel free to add additional cells as needed.\n",
    "3. Write your code in the *Code* cells of the **template provided** to write solutions for the assignment. **Do not open a new notebook**, and work from scratch. Ensure that the solution is written neatly enough to understand and grade.\n",
    "\n",
    "4. Use [Quarto](https://quarto.org/docs/output-formats/html-basics.html) to print the *.ipynb* file as HTML. You will need to open the terminal, navigate to the directory containing the file, and use the command: `quarto render filename.ipynb --to html`. Submit the HTML file.\n",
    "\n",
    "5. You are NOT permitted to use AI, internet, or eachother. You can use any amount of physical notes printed/written/typed that you would like.\n",
    "\n",
    "6. There are point deductions if your code is not clean and organized."
   ]
  },
  {
   "cell_type": "markdown",
   "id": "f73d9602",
   "metadata": {},
   "source": [
    "## Question 1: Collecting Even Numbers Until a Target Sum *(4 points)*"
   ]
  },
  {
   "cell_type": "markdown",
   "id": "8035f5ef",
   "metadata": {},
   "source": [
    "Continually **ask the user** for an **even** integer between 2 and 20.\n",
    "\n",
    "- The user must keep entering values until the sum of all entered numbers is at least 50.\n",
    "- If the user enters a value that is not an even integer, print `\"That is not an even integer.\"` and continue asking for input (i.e., do not terminate the program due to an invalid entry).\n",
    "- If the user enters a number outside the range 2 to 20, print `\"Please enter a number between 2 and 20.\"` and continue asking for input.\n",
    "\n",
    "Once the program is complete print the following statement only **once**::\n",
    "\n",
    "                            \"You entered {} numbers that sum to {}.\" \n",
    "                                - the first {} is the count of the number of terms entered \n",
    "                                - the second {} is the sum of all the terms\n",
    "    \n",
    "Run your program with any values until it ends."
   ]
  },
  {
   "cell_type": "code",
   "execution_count": 51,
   "id": "a033a543",
   "metadata": {},
   "outputs": [
    {
     "name": "stdout",
     "output_type": "stream",
     "text": [
      "This is not an even integer\n",
      "Please enter a number between 2 and 20\n",
      "That is not an even integer\n",
      "Please enter a number between 2 and 20\n",
      "That is not an even integer\n",
      "That is not an even integer\n",
      "That is not an even integer\n",
      "That is not an even integer\n",
      "That is not an even integer\n",
      "That is not an even integer\n",
      "That is not an even integer\n",
      "That is not an even integer\n",
      "That is not an even integer\n",
      "This is not an even integer\n",
      "That is not an even integer\n",
      "That is not an even integer\n",
      "That is not an even integer\n",
      "That is not an even integer\n",
      "That is not an even integer\n",
      "That is not an even integer\n",
      "That is not an even integer\n",
      "That is not an even integer\n",
      "That is not an even integer\n",
      "That is not an even integer\n",
      "That is not an even integer\n",
      "That is not an even integer\n",
      "That is not an even integer\n",
      "That is not an even integer\n",
      "That is not an even integer\n",
      "That is not an even integer\n",
      "Please enter a number between 2 and 20\n",
      "That is not an even integer\n",
      "This is not an even integer\n",
      "This is not an even integer\n",
      "This is not an even integer\n",
      "This is not an even integer\n",
      "This is not an even integer\n",
      "This is not an even integer\n",
      "This is not an even integer\n",
      "This is not an even integer\n",
      "This is not an even integer\n",
      "This is not an even integer\n",
      "This is not an even integer\n",
      "You entered 3 numbers that sum to 60.\n",
      "     -The first 3 is the count of the number of terms entered\n",
      "     -The second 60 is the sum of all the terms\n"
     ]
    }
   ],
   "source": [
    "sum = 0\n",
    "numberofnumbers = 0\n",
    "while sum < 50:\n",
    "    try:\n",
    "        n = int(input())\n",
    "        if n < 2:\n",
    "            print(\"Please enter a number between 2 and 20\")\n",
    "        if n > 20:\n",
    "            print(\"Please enter a number between 2 and 20\")\n",
    "        if n % 2 != 0:\n",
    "            print(\"That is not an even integer\")\n",
    "        elif n % 2 == 0:\n",
    "            sum += n\n",
    "            numberofnumbers += 1\n",
    "\n",
    "    except:\n",
    "        print(\"This is not an even integer\")\n",
    "print(f\"You entered {numberofnumbers} numbers that sum to {sum}.\")\n",
    "print(f\"     -The first {numberofnumbers} is the count of the number of terms entered\")\n",
    "print(f\"     -The second {sum} is the sum of all the terms\")\n"
   ]
  },
  {
   "cell_type": "markdown",
   "id": "f7c4752e",
   "metadata": {},
   "source": [
    "## Question 2: Counting Word Occurrences in a Sentence *(4 points)*\n",
    "\n",
    "#### Task:  \n",
    "Write a Python function named `count_word_occurrences` that accepts two arguments:  \n",
    "\n",
    "- **`word`** (a string) – the word to count.  \n",
    "- **`sentence`** (a string) – the sentence in which to count occurrences of the word.  \n",
    "\n",
    "The function should return the number of times the **exact word** appears in the sentence, regardless of case. The word should be matched as a **whole word**, not as part of another word (e.g., `\"sea\"` should **not** be counted in `\"seashore\"`).  \n",
    "\n",
    "#### Example Usage:  \n",
    "Use this function to count the occurrences of the word **\"sea\"** in the following sentence:  \n",
    "\n",
    "> `\"She sells sea shells on the sea shore when the sea is calm.\"`  "
   ]
  },
  {
   "cell_type": "code",
   "execution_count": 6,
   "id": "eaa6f88f",
   "metadata": {},
   "outputs": [
    {
     "data": {
      "text/plain": [
       "0"
      ]
     },
     "execution_count": 6,
     "metadata": {},
     "output_type": "execute_result"
    }
   ],
   "source": [
    "def count_word_occurences(word, sentence):\n",
    "    count = 0\n",
    "    for i in sentence.lower().split():\n",
    "        if i == word:\n",
    "            count += 1\n",
    "    return count\n",
    "\n",
    "count_word_occurences(\"sea\", \"seashore\") # my code works on seashore, but the given sentence is sea shore"
   ]
  },
  {
   "cell_type": "markdown",
   "id": "d1c132d2",
   "metadata": {},
   "source": [
    "## Question 3: List Comprehension *(8 points)*\n",
    "\n",
    "USA’s GDP per capita from 1960 to 2021 is given by the tuple `T` in the code cell below. The values are arranged in ascending order of the year, i.e., the first value is for 1960, the second value is for 1961, and so on."
   ]
  },
  {
   "cell_type": "code",
   "execution_count": 46,
   "id": "267c534b",
   "metadata": {},
   "outputs": [],
   "source": [
    "T = (3007, 3067, 3244, 3375,3574, 3828, 4146, 4336, 4696, 5032,5234,5609,6094,6726,7226,7801,8592,9453,10565,11674,12575,13976,14434,15544,17121,18237,19071,20039,21417,22857,23889,24342,25419,26387,27695,28691,29968,31459,32854,34515,36330,37134,37998,39490,41725,44123,46302,48050,48570,47195,48651,50066,51784,53291,55124,56763,57867,59915,62805,65095,63028,69288)"
   ]
  },
  {
   "cell_type": "markdown",
   "id": "e99c7e12",
   "metadata": {},
   "source": [
    "####\n",
    "Use list comprehension to create a list of the gaps between consecutive entries in `T`, i.e, the increase in GDP per capita with respect to the previous year. The list with gaps should look like: [60, 177, …]. Let the name of this list be `GDP_increase`. (2 points)"
   ]
  },
  {
   "cell_type": "code",
   "execution_count": 47,
   "id": "74573553",
   "metadata": {},
   "outputs": [
    {
     "name": "stdout",
     "output_type": "stream",
     "text": [
      "[60, 177, 131, 199, 254, 318, 190, 360, 336, 202, 375, 485, 632, 500, 575, 791, 861, 1112, 1109, 901, 1401, 458, 1110, 1577, 1116, 834, 968, 1378, 1440, 1032, 453, 1077, 968, 1308, 996, 1277, 1491, 1395, 1661, 1815, 804, 864, 1492, 2235, 2398, 2179, 1748, 520, -1375, 1456, 1415, 1718, 1507, 1833, 1639, 1104, 2048, 2890, 2290, -2067, 6260]\n"
     ]
    }
   ],
   "source": [
    "GDP_increase = []\n",
    "\n",
    "for _ in range(1, len(T)):\n",
    "    GDP_increase.append(T[_] - T[_-1])\n",
    "\n",
    "print(GDP_increase)"
   ]
  },
  {
   "cell_type": "markdown",
   "id": "c5c6b69b",
   "metadata": {},
   "source": [
    "####\n",
    "Use `GDP_increase` to find the maximum gap size, i.e, the maximum increase in GDP per capita. (1 point)"
   ]
  },
  {
   "cell_type": "code",
   "execution_count": 48,
   "id": "52a08596",
   "metadata": {},
   "outputs": [
    {
     "data": {
      "text/plain": [
       "6260"
      ]
     },
     "execution_count": 48,
     "metadata": {},
     "output_type": "execute_result"
    }
   ],
   "source": [
    "max(GDP_increase)"
   ]
  },
  {
   "cell_type": "markdown",
   "id": "4c96aec1",
   "metadata": {},
   "source": [
    "####\n",
    "Use list comprehension with `GDP_increase` to find the percentage of gaps that have size greater than $1000. (2 points)"
   ]
  },
  {
   "cell_type": "code",
   "execution_count": null,
   "id": "7c8729ec",
   "metadata": {},
   "outputs": [
    {
     "name": "stdout",
     "output_type": "stream",
     "text": [
      "52.459016393442624\n"
     ]
    }
   ],
   "source": [
    "bigGaps = 0\n",
    "for i in GDP_increase:\n",
    "    if i > 1000:\n",
    "        bigGaps+= 1\n",
    "\n",
    "print(bigGaps / len(GDP_increase) * 100)\n",
    "\n"
   ]
  },
  {
   "cell_type": "markdown",
   "id": "f3c4022d",
   "metadata": {},
   "source": [
    "####\n",
    "Use list comprehension with `GDP_increase` to print the list of years in which the GDP per capita increase was more than $2000. (3 points)\n",
    "\n",
    "**Hint:** The `enumerate()` function may help."
   ]
  },
  {
   "cell_type": "code",
   "execution_count": null,
   "id": "a3d27d6c",
   "metadata": {},
   "outputs": [],
   "source": [
    "# was told i didn't need to do this one\n",
    "        "
   ]
  },
  {
   "cell_type": "markdown",
   "id": "f760d108",
   "metadata": {},
   "source": [
    "## Question 4: Categorizing Animals by Habitat Using a Single Loop *(4 points)*"
   ]
  },
  {
   "cell_type": "markdown",
   "id": "5844c652",
   "metadata": {},
   "source": [
    "Consider the `animal_habitat` object defined below which contains animals and their corresponding habitats."
   ]
  },
  {
   "cell_type": "code",
   "execution_count": 36,
   "id": "8a17aafd",
   "metadata": {},
   "outputs": [],
   "source": [
    "animal_habitat = {\n",
    "    \"lion\": \"savanna\",\n",
    "    \"elephant\": \"savanna\",\n",
    "    \"tiger\": \"forest\",\n",
    "    \"penguin\": \"polar\",\n",
    "    \"polar bear\": \"polar\",\n",
    "    \"kangaroo\": \"grassland\",\n",
    "    \"cheetah\": \"savanna\",\n",
    "    \"giraffe\": \"savanna\",\n",
    "    \"wolf\": \"forest\",\n",
    "    \"crocodile\": \"wetlands\",\n",
    "    \"otter\": \"wetlands\",\n",
    "    \"parrot\": \"rainforest\",\n",
    "    \"gorilla\": \"rainforest\",\n",
    "    \"dolphin\": \"ocean\",\n",
    "    \"whale\": \"ocean\",\n",
    "    \"eagle\": \"mountains\",\n",
    "    \"panda\": \"forest\"\n",
    "}"
   ]
  },
  {
   "cell_type": "markdown",
   "id": "7de88280",
   "metadata": {},
   "source": [
    "#### **Instructions:**\n",
    "Use the dictionary `animal_habitat` to create:\n",
    "\n",
    "- A **list** of all animals that live in the **savanna** (call it `savanna_animals`).\n",
    "- A **list** of all animals that live in the **forest** (call it `forest_animals`).\n",
    "- A **list** of all remaining animals (call it `other_animals`).\n",
    "- A **dictionary** (call it `habitat_count`) that counts the number of animals in the **savanna**, **forest**, and **other** habitats.\n",
    "\n",
    "#### **Constraints:**\n",
    "- This should be done within a **single loop**.\n",
    "- Initialize `habitat_count` with keys `\"savanna\"`, `\"forest\"`, and `\"other\"`, all starting with a value of `0`.\n",
    "\n",
    "#### **Hint:**\n",
    "Use **if-elif-else** statements to classify animals."
   ]
  },
  {
   "cell_type": "code",
   "execution_count": 39,
   "id": "2101ebf3",
   "metadata": {},
   "outputs": [
    {
     "name": "stdout",
     "output_type": "stream",
     "text": [
      "['lion', 'elephant', 'cheetah', 'giraffe']\n",
      "['tiger', 'wolf', 'panda']\n",
      "['penguin', 'polar bear', 'kangaroo', 'crocodile', 'otter', 'parrot', 'gorilla', 'dolphin', 'whale', 'eagle']\n",
      "{'savanna': 4, 'forest': 3, 'other': 10}\n"
     ]
    }
   ],
   "source": [
    "savanna_animals = []\n",
    "forest_animals = []\n",
    "other_animals = []\n",
    "habitat_count = {\"savanna\": 0, \"forest\": 0, \"other\":0}\n",
    "for i in animal_habitat:\n",
    "    if animal_habitat[i] == \"savanna\":\n",
    "        savanna_animals.append(i)\n",
    "        habitat_count[\"savanna\"] += 1\n",
    "    elif animal_habitat[i] == \"forest\":\n",
    "        forest_animals.append(i)\n",
    "        habitat_count[\"forest\"] += 1\n",
    "    else:\n",
    "        other_animals.append(i)\n",
    "        habitat_count[\"other\"] += 1\n",
    "    \n",
    "\n",
    "print(savanna_animals)\n",
    "print(forest_animals)\n",
    "print(other_animals)\n",
    "print(habitat_count)"
   ]
  },
  {
   "cell_type": "markdown",
   "id": "874ce356",
   "metadata": {},
   "source": [
    "## Bonus Question: Movie Profit Analysis (4 points)\n",
    "\n",
    "Download the file `movies.json`. **Put it in the same folder as your Jupyter notebook**, and execute the following code:"
   ]
  },
  {
   "cell_type": "code",
   "execution_count": 1,
   "id": "69af923d",
   "metadata": {},
   "outputs": [],
   "source": [
    "import json\n",
    "with open(\"movies.json\", encoding=\"utf8\") as file:\n",
    "    movie_data=json.load(file)"
   ]
  },
  {
   "cell_type": "markdown",
   "id": "da78c634",
   "metadata": {},
   "source": [
    "The variable `movie_data` contains information about movies. Examine the data structure, as it will help you answer the questions below."
   ]
  },
  {
   "cell_type": "markdown",
   "id": "1b934690",
   "metadata": {},
   "source": [
    "####\n",
    "\n",
    "Compute the mean profit of all movies using **list comprehension**, where:\n",
    "\n",
    "\n",
    "${Profit} = \\text{Worldwide Gross} - \\text{Production Budget}$\n",
    "\n",
    "#### Notes:\n",
    "- Exclude movies with missing **Worldwide Gross** or **Production Budget** (i.e., ignore entries where either is `None`, since it automatically treated as a missing value). You can check for values that are None using the if statement. For example, if you wish to check if the variable var has a value None, then you can check it as:  `if var==None`\n",
    "- The movie genre is specified in the **'Major Genre'** column.\n",
    "\n",
    "#### Tasks:\n",
    "1. Compute the **mean profit** across all movies.\n",
    "2. There are 12 distinct genres in the data. Determine the **genre** with the highest average profit.\n",
    "3. Report both the **maximum average profit** and the corresponding **genre**.\n"
   ]
  },
  {
   "cell_type": "code",
   "execution_count": 43,
   "id": "dffe81bf",
   "metadata": {},
   "outputs": [
    {
     "name": "stdout",
     "output_type": "stream",
     "text": [
      "The highest average profit is 172328684.78832117 for the genre Adventure\n"
     ]
    }
   ],
   "source": [
    "lst = [] #initlizations\n",
    "genretcount = {}\n",
    "genretotalprofit = {}\n",
    "avgProfit = 0\n",
    "maxgenre = \"\"\n",
    "for i in movie_data:\n",
    "    if i[\"Worldwide Gross\"] != None:\n",
    "        x = i[\"Worldwide Gross\"] \n",
    "        if i[\"Production Budget\"] != None:\n",
    "            y = i[\"Production Budget\"]  \n",
    "            lst.append(x - y) # append worldwidge gross - production budget for each question\n",
    "            if i[\"Major Genre\"] != None: #make sure this exists\n",
    "                genretcount[i[\"Major Genre\"]]= genretcount.get(i[\"Major Genre\"], 0) + 1 #add get to not get a key error then add 1 to count the number of genres\n",
    "                genretotalprofit[i[\"Major Genre\"]]= genretotalprofit.get(i[\"Major Genre\"], 0) + (x - y) # add the profits together to get total profit\n",
    "                \n",
    "for genre in genretcount: # loop to get the avg profit and set max genre and the max profit\n",
    "                    if avgProfit < genretotalprofit[genre] / genretcount[genre]:\n",
    "                        avgProfit = genretotalprofit[genre] / genretcount[genre]\n",
    "                        maxgenre = genre\n",
    "\n",
    "print(f\"The highest average profit is {avgProfit} for the genre {maxgenre}\")"
   ]
  },
  {
   "cell_type": "code",
   "execution_count": null,
   "id": "09e0e44e",
   "metadata": {},
   "outputs": [],
   "source": []
  }
 ],
 "metadata": {
  "kernelspec": {
   "display_name": ".venv",
   "language": "python",
   "name": "python3"
  },
  "language_info": {
   "codemirror_mode": {
    "name": "ipython",
    "version": 3
   },
   "file_extension": ".py",
   "mimetype": "text/x-python",
   "name": "python",
   "nbconvert_exporter": "python",
   "pygments_lexer": "ipython3",
   "version": "3.11.9"
  }
 },
 "nbformat": 4,
 "nbformat_minor": 5
}
