{
 "cells": [
  {
   "cell_type": "raw",
   "metadata": {
    "vscode": {
     "languageId": "raw"
    }
   },
   "source": [
    "---\n",
    "title: \"Week 3 Exercises\"\n",
    "subtitle: \"STAT 201\"\n",
    "author: \"Rishi Ramaiya\"\n",
    "format:\n",
    "  html:\n",
    "    toc: true\n",
    "    embed-resources: true\n",
    "jupyter: python3\n",
    "---"
   ]
  },
  {
   "cell_type": "markdown",
   "metadata": {},
   "source": [
    "### Practice exercise 1\n",
    "\n",
    "* Can you use math.sqrt(16) without importing the math module? Why or why not?\n",
    "* Identify whether the following functions require importing a module:\n",
    "    * `abs()`\n",
    "    * `random.randint()`\n",
    "    * `time.sleep()`"
   ]
  },
  {
   "cell_type": "markdown",
   "metadata": {},
   "source": [
    "You can't use the first one because it requires the math module from math. means youre importing from the math module\n",
    "you can use abs() because it's built in and also there's no module. before it means there's no import occuring\n",
    "you can't use random.randint without the module\n",
    "you can't use time.sleep() without the module"
   ]
  },
  {
   "cell_type": "markdown",
   "metadata": {},
   "source": [
    "### Practice exercise 2\n",
    "\n",
    "Generate a random number between [-5,5]. Do this 10,000 times. Find the mean of all the 10,000 random numbers generated."
   ]
  },
  {
   "cell_type": "code",
   "execution_count": 9,
   "metadata": {},
   "outputs": [
    {
     "name": "stdout",
     "output_type": "stream",
     "text": [
      "0.0149\n"
     ]
    }
   ],
   "source": [
    "import random as rm \n",
    "total = 0\n",
    "for _ in range(10000):\n",
    "    number = rm.randint(-5, 5)\n",
    "    total += number\n",
    "\n",
    "print(total / 10000)\n",
    "        \n",
    "        \n",
    "\n",
    "        \n",
    "        "
   ]
  },
  {
   "cell_type": "markdown",
   "metadata": {},
   "source": [
    "### Practice exercise 3\n",
    "Write a function that prints prime numbers between two real numbers - `a` and `b`, where `a` and `b` are the parameters of the function. Call the function and check the output with a = 60, b = 80."
   ]
  },
  {
   "cell_type": "code",
   "execution_count": 19,
   "metadata": {},
   "outputs": [
    {
     "name": "stdout",
     "output_type": "stream",
     "text": [
      "61\n",
      "67\n",
      "71\n",
      "73\n",
      "79\n"
     ]
    }
   ],
   "source": [
    "def is_prime(n):\n",
    "    if n < 2:\n",
    "        return False\n",
    "    for i in range(2,n):\n",
    "        if n % i == 0:\n",
    "            return False\n",
    "    return True\n",
    "    \n",
    "def prime_numbers_between(a,b):\n",
    "    for i in range(a,b):\n",
    "        if is_prime(i):\n",
    "            print(i)\n",
    "\n",
    "prime_numbers_between(60,80)"
   ]
  },
  {
   "cell_type": "markdown",
   "metadata": {},
   "source": [
    "### Practice exercise 4: Create a Custom Calculator\n",
    "\n",
    "Write a function calculator that performs basic arithmetic operations: addition, subtraction, multiplication, and division.\n",
    "\n",
    "Steps:\n",
    "\n",
    "1. Define a function `calculator` with three parameters: `a`, `b`, and `operation` (a string indicating the operation, e.g., `'add'`, `'subtract'`).\n",
    "2. Use conditional statements to handle the operations.\n",
    "3. Return the result of the operation.\n",
    "4. Handle invalid operations gracefully.\n",
    "\n",
    "Expected Output Examples:\n",
    "\n",
    "```\n",
    "print(calculator(10, 5, 'add'))        # Output: 15\n",
    "print(calculator(10, 5, 'subtract'))   # Output: 5\n",
    "print(calculator(10, 5, 'multiply'))   # Output: 50\n",
    "print(calculator(10, 5, 'divide'))     # Output: 2.0"
   ]
  },
  {
   "cell_type": "code",
   "execution_count": 20,
   "metadata": {},
   "outputs": [],
   "source": [
    "def calculator(a, b, operator):\n",
    "    if operator == \"+\":\n",
    "        return a + b\n",
    "    elif operator == \"-\":\n",
    "        return a - b\n",
    "    elif operator == \"/\":\n",
    "        return a /b\n",
    "    elif operator == \"*\":\n",
    "        return a * b\n",
    "     \n",
    "    "
   ]
  },
  {
   "cell_type": "markdown",
   "metadata": {},
   "source": [
    "### Practice exercise 5\n",
    "\n",
    "Read the following code and answer the following questions:\n",
    "\n",
    "1. Will the program raise an error?\n",
    "2. If yes, fix the error and provide the corrected code.\n",
    "3. What will be the output of the corrected program?"
   ]
  },
  {
   "cell_type": "code",
   "execution_count": 29,
   "metadata": {},
   "outputs": [
    {
     "name": "stdout",
     "output_type": "stream",
     "text": [
      "Inside inner()\n",
      "Global message = Changed Global Message\n",
      "Enclosed msg_outer = Changed Outer Message\n",
      "Local local_msg = Local to inner()\n",
      "\n",
      "Inside outer() after inner() call:\n",
      "Global message = Changed Global Message\n",
      "Enclosed msg_outer = Changed Outer Message\n",
      "\n",
      "Outside all functions (global scope):\n",
      "Global message = Changed Global Message\n"
     ]
    }
   ],
   "source": [
    "message = \"Global Message\"  # Global variable\n",
    "\n",
    "def outer():\n",
    "    msg_outer = \"Outer Message\"  # Enclosed scope\n",
    "\n",
    "    def inner():\n",
    "        global message       \n",
    "        nonlocal msg_outer   \n",
    "\n",
    "        message = \"Changed Global Message\"\n",
    "        msg_outer = \"Changed Outer Message\"\n",
    "        local_msg = \"Local to inner()\"  \n",
    "        print(\"Inside inner()\")\n",
    "        print(\"Global message =\", message)\n",
    "        print(\"Enclosed msg_outer =\", msg_outer)\n",
    "        print(\"Local local_msg =\", local_msg)\n",
    "\n",
    "    inner()\n",
    "    print(\"\\nInside outer() after inner() call:\")\n",
    "    print(\"Global message =\", message)\n",
    "    print(\"Enclosed msg_outer =\", msg_outer)\n",
    "    # print(\"Local local_msg =\", local_msg)  \n",
    "\n",
    "outer()\n",
    "\n",
    "print(\"\\nOutside all functions (global scope):\")\n",
    "print(\"Global message =\", message)\n",
    "# print(\"Enclosed msg_outer =\", msg_outer)\n",
    "# print(\"Local local_msg =\", local_msg)  "
   ]
  },
  {
   "cell_type": "markdown",
   "metadata": {},
   "source": [
    "it causes an error \n",
    "i fixed it by adding a global and nonlocal  and then commenting out areas where the scope can't be reached\n"
   ]
  },
  {
   "cell_type": "markdown",
   "metadata": {},
   "source": [
    "### Bonus Challenge: Palindrome Checker\n",
    "\n",
    "Write a function called `is_palindrome` that checks if a string is a palindrome (reads the same forward and backward).\n",
    "\n",
    "Steps:\n",
    "\n",
    "1. Define the function `is_palindrome` with one parameter, `text`.\n",
    "2. Ignore case and spaces.\n",
    "3. Return `True` if the string is a palindrome, otherwise False.\n",
    "\n",
    "Expected OUtput Examples:\n",
    "\n",
    "```\n",
    "print(is_palindrome(\"radar\"))         # Output: True\n",
    "print(is_palindrome(\"hello\"))         # Output: False\n",
    "print(is_palindrome(\"A man a plan a canal Panama\"))  # Output: True\n",
    "```\n"
   ]
  },
  {
   "cell_type": "code",
   "execution_count": 25,
   "metadata": {},
   "outputs": [
    {
     "name": "stdout",
     "output_type": "stream",
     "text": [
      "True\n"
     ]
    }
   ],
   "source": [
    "my_str = \"radar\"\n",
    "\n",
    "string_slice_reversed = my_str[::-1]\n",
    "\n",
    "\n",
    "my_reversed_str = \"\".join(reversed(my_str))\n",
    "\n",
    "\n",
    "\n",
    "print(my_reversed_str == my_str)"
   ]
  }
 ],
 "metadata": {
  "kernelspec": {
   "display_name": ".venv",
   "language": "python",
   "name": "python3"
  },
  "language_info": {
   "codemirror_mode": {
    "name": "ipython",
    "version": 3
   },
   "file_extension": ".py",
   "mimetype": "text/x-python",
   "name": "python",
   "nbconvert_exporter": "python",
   "pygments_lexer": "ipython3",
   "version": "3.11.9"
  }
 },
 "nbformat": 4,
 "nbformat_minor": 2
}
